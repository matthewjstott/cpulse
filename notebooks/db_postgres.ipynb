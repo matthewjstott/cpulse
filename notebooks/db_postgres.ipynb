{
 "cells": [
  {
   "cell_type": "code",
   "execution_count": null,
   "id": "bab48661",
   "metadata": {},
   "outputs": [],
   "source": [
    "#!pip3 install psycopg2-binary"
   ]
  },
  {
   "cell_type": "code",
   "execution_count": 1,
   "id": "8ae1e47d",
   "metadata": {},
   "outputs": [],
   "source": [
    "import os\n",
    "import psycopg2\n",
    "from dotenv import load_dotenv"
   ]
  },
  {
   "cell_type": "code",
   "execution_count": 2,
   "id": "2a430577",
   "metadata": {},
   "outputs": [],
   "source": [
    "%load_ext dotenv\n",
    "%dotenv ../.env"
   ]
  },
  {
   "cell_type": "code",
   "execution_count": 3,
   "id": "4084935e",
   "metadata": {},
   "outputs": [],
   "source": [
    "PGDATABASE = os.environ.get(\"PGDATABASE\")\n",
    "PGHOST = os.environ.get(\"PGHOST\")\n",
    "PGPASSWORD = os.environ.get(\"PGPASSWORD\")\n",
    "PGPORT = os.environ.get(\"PGPORT\")\n",
    "PGUSER = os.environ.get(\"PGUSER\")"
   ]
  },
  {
   "cell_type": "code",
   "execution_count": null,
   "id": "d5cab50c",
   "metadata": {},
   "outputs": [],
   "source": []
  },
  {
   "cell_type": "code",
   "execution_count": null,
   "id": "08e928fd",
   "metadata": {},
   "outputs": [],
   "source": [
    "DATABASE_URL = f'postgresql://{PGUSER}:{PGPASSWORD}@{PGHOST}:{PGPORT}/{PGDATABASE}'"
   ]
  },
  {
   "cell_type": "code",
   "execution_count": 5,
   "id": "e8ae7e15",
   "metadata": {},
   "outputs": [],
   "source": [
    "try:\n",
    "    conn = psycopg2.connect(dbname=PGDATABASE, user=PGUSER, host=PGHOST, password=PGPASSWORD)\n",
    "except:\n",
    "    print(\"I am unable to connect to the database\")"
   ]
  },
  {
   "cell_type": "code",
   "execution_count": null,
   "id": "2ce39d84",
   "metadata": {},
   "outputs": [],
   "source": []
  },
  {
   "cell_type": "code",
   "execution_count": 18,
   "id": "7502bcf9",
   "metadata": {},
   "outputs": [],
   "source": [
    "cur = conn.cursor()"
   ]
  },
  {
   "cell_type": "code",
   "execution_count": null,
   "id": "a4d0505f",
   "metadata": {},
   "outputs": [],
   "source": [
    "cur.execute(\"\"\"SELECT table_name FROM information_schema.tables\n",
    "       WHERE table_schema = 'public'\"\"\")\n",
    "for table in cur.fetchall():\n",
    "    print(table)"
   ]
  },
  {
   "cell_type": "code",
   "execution_count": null,
   "id": "97787d17",
   "metadata": {},
   "outputs": [],
   "source": [
    "conn.close()"
   ]
  },
  {
   "cell_type": "code",
   "execution_count": null,
   "id": "efe00414",
   "metadata": {},
   "outputs": [],
   "source": [
    "import re\n",
    "from string import digits"
   ]
  },
  {
   "cell_type": "code",
   "execution_count": null,
   "id": "b1100273",
   "metadata": {},
   "outputs": [],
   "source": [
    "ex_url = \"https://forbiddenplanet.com/364771-star-wars-the-high-republic-1/\""
   ]
  },
  {
   "cell_type": "code",
   "execution_count": null,
   "id": "abb75259",
   "metadata": {},
   "outputs": [],
   "source": []
  },
  {
   "cell_type": "code",
   "execution_count": null,
   "id": "85dd9bfb",
   "metadata": {},
   "outputs": [],
   "source": [
    "s.lstrip(digits)"
   ]
  },
  {
   "cell_type": "code",
   "execution_count": null,
   "id": "4f362c10",
   "metadata": {},
   "outputs": [],
   "source": [
    "'364771-star-wars-the-high-republic-1'.split('-',1)"
   ]
  },
  {
   "cell_type": "code",
   "execution_count": null,
   "id": "925be60d",
   "metadata": {},
   "outputs": [],
   "source": [
    "def parse_url_entry(forbidden_planet_url):\n",
    "    \n",
    "    forbidden_planet_url = forbidden_planet_url.rstrip('/').split('/')[-1]    \n",
    "    if forbidden_planet_url[0].isdigit():\n",
    "        forbidden_planet_url = forbidden_planet_url.split('-',1)[-1]\n",
    "        \n",
    "    return forbidden_planet_url"
   ]
  },
  {
   "cell_type": "code",
   "execution_count": null,
   "id": "8cb37bc0",
   "metadata": {},
   "outputs": [],
   "source": [
    "parse_url_entry(ex_url)"
   ]
  },
  {
   "cell_type": "code",
   "execution_count": null,
   "id": "ec2b961a",
   "metadata": {},
   "outputs": [],
   "source": [
    "set_comic_scope(**comic_dict)"
   ]
  },
  {
   "cell_type": "code",
   "execution_count": null,
   "id": "83690769",
   "metadata": {},
   "outputs": [],
   "source": [
    "comic_dict = {'series':'batman','issue_number':130,'artist':'jock','cover':None,'variant':True,'single_issue':True}"
   ]
  },
  {
   "cell_type": "code",
   "execution_count": null,
   "id": "4da27b02",
   "metadata": {},
   "outputs": [],
   "source": [
    "def set_comic_scope(series=None, issue_number = None, artist = None, cover=None, variant = False, single_issue = True, return_format = 'string'):\n",
    "    \n",
    "    print(series)\n",
    "    match_strings = []\n",
    "    match_strings.append(hyphen_wrapper(series))\n",
    "    if single_issue and issue_number:\n",
    "        match_strings.append(hyphen_wrapper(str(issue_number)))\n",
    "    if artist:\n",
    "        match_strings.append(hyphen_wrapper(artist))\n",
    "    if cover:\n",
    "        match_strings.append(hyphen_wrapper(f'cover-{cover}'))\n",
    "    if variant:\n",
    "        match_strings.append(hyphen_wrapper('variant'))\n",
    "    \n",
    "    if return_format == 'string':\n",
    "        match_strings = ''.join(match_strings).lstrip('-')\n",
    "        \n",
    "    return match_strings"
   ]
  },
  {
   "cell_type": "code",
   "execution_count": null,
   "id": "a2f9a2bf",
   "metadata": {},
   "outputs": [],
   "source": []
  },
  {
   "cell_type": "code",
   "execution_count": null,
   "id": "cd3207fe",
   "metadata": {},
   "outputs": [],
   "source": []
  },
  {
   "cell_type": "code",
   "execution_count": null,
   "id": "b54148c9",
   "metadata": {},
   "outputs": [],
   "source": []
  },
  {
   "cell_type": "code",
   "execution_count": null,
   "id": "97e33d5e",
   "metadata": {},
   "outputs": [],
   "source": [
    "valid_columns = tuple([col for col in comic_dict.keys() if comic_dict[col]])\n",
    "valid_values = tuple([comic_dict[col] for col in valid_columns])"
   ]
  },
  {
   "cell_type": "code",
   "execution_count": null,
   "id": "555f84b6",
   "metadata": {},
   "outputs": [],
   "source": []
  },
  {
   "cell_type": "code",
   "execution_count": null,
   "id": "cfaaf14e",
   "metadata": {},
   "outputs": [],
   "source": [
    "def append_known_comic(comic_url, lists = []):\n",
    "    "
   ]
  },
  {
   "cell_type": "code",
   "execution_count": null,
   "id": "d83bb19e",
   "metadata": {},
   "outputs": [],
   "source": [
    "def append_unkown_comic(comic_dict):\n",
    "    \n",
    "    comic_scope = set_comic_scope(**comic_dict)\n",
    "    comic_dict['local_name'] = comic_scope\n",
    "    valid_columns = tuple([col for col in comic_dict.keys() if comic_dict[col]])\n",
    "    valid_values = tuple([comic_dict[col] for col in valid_columns])\n",
    "    valid_formats =1\n",
    "    \n",
    "    print(valid_values)\n",
    "    \n",
    "    table_columns = ('id','series','name','issue','cover','local_name','list','status')\n",
    "    \n",
    "    cur.execute(f\"INSERT INTO comic_watch {table_columns} VALUES(%s,%s,%s,%s,%s,%s)\", valid_values)\n"
   ]
  },
  {
   "cell_type": "code",
   "execution_count": null,
   "id": "8edac2e4",
   "metadata": {},
   "outputs": [],
   "source": [
    "comic_dict = {'series':'batman','issue_number':130,'artist':'jock','cover':None,'variant':True,'single_issue':True}\n",
    "append_unkown_comic(comic_dict)"
   ]
  },
  {
   "cell_type": "code",
   "execution_count": null,
   "id": "defbd06c",
   "metadata": {},
   "outputs": [],
   "source": []
  },
  {
   "cell_type": "code",
   "execution_count": null,
   "id": "b29d7061",
   "metadata": {},
   "outputs": [],
   "source": [
    "#set_comic_scope(series, issue_number = None, artist = None, cover=None, variant = False, single_issue = True)"
   ]
  },
  {
   "cell_type": "code",
   "execution_count": null,
   "id": "f86328b7",
   "metadata": {},
   "outputs": [],
   "source": [
    "set_comic_scope('batman',130,'jock')"
   ]
  },
  {
   "cell_type": "code",
   "execution_count": null,
   "id": "b7451e58",
   "metadata": {},
   "outputs": [],
   "source": [
    "def hyphen_wrapper(text):\n",
    "    if len(text.split()) == 1 and '*' in text:\n",
    "        return text.replace('*','')\n",
    "    else:\n",
    "        return '-'+'-'.join(text.split())"
   ]
  },
  {
   "cell_type": "code",
   "execution_count": 40,
   "id": "42db6983",
   "metadata": {},
   "outputs": [],
   "source": [
    "xx = zip(comic_names, comic_urls)"
   ]
  },
  {
   "cell_type": "code",
   "execution_count": 42,
   "id": "3d06d179",
   "metadata": {},
   "outputs": [],
   "source": [
    "for comic in xx:\n",
    "    print(comic[0],comic[1])"
   ]
  },
  {
   "cell_type": "code",
   "execution_count": null,
   "id": "ef48d8ff",
   "metadata": {},
   "outputs": [],
   "source": []
  },
  {
   "cell_type": "code",
   "execution_count": 38,
   "id": "d60dfd99",
   "metadata": {},
   "outputs": [],
   "source": [
    "comic_names = [' '.join([str(value) for value in comic[:4] if value]) for comic in comics]\n",
    "comic_urls = [value[-1] for value in comics]"
   ]
  },
  {
   "cell_type": "code",
   "execution_count": 28,
   "id": "4ad0c638",
   "metadata": {},
   "outputs": [],
   "source": [
    "cur.execute(\"\"\"SELECT series, name, issue, cover, url FROM fp_watchlist WHERE status=TRUE;\"\"\")\n",
    "comics = cur.fetchall()\n"
   ]
  },
  {
   "cell_type": "code",
   "execution_count": 17,
   "id": "0700bce0",
   "metadata": {},
   "outputs": [
    {
     "ename": "ProgrammingError",
     "evalue": "no results to fetch",
     "output_type": "error",
     "traceback": [
      "\u001b[0;31m---------------------------------------------------------------------------\u001b[0m",
      "\u001b[0;31mProgrammingError\u001b[0m                          Traceback (most recent call last)",
      "Cell \u001b[0;32mIn [17], line 1\u001b[0m\n\u001b[0;32m----> 1\u001b[0m \u001b[38;5;28;01mfor\u001b[39;00m table \u001b[38;5;129;01min\u001b[39;00m \u001b[43mcur\u001b[49m\u001b[38;5;241;43m.\u001b[39;49m\u001b[43mfetchall\u001b[49m\u001b[43m(\u001b[49m\u001b[43m)\u001b[49m:\n\u001b[1;32m      2\u001b[0m     \u001b[38;5;28mprint\u001b[39m(table)\n",
      "\u001b[0;31mProgrammingError\u001b[0m: no results to fetch"
     ]
    }
   ],
   "source": [
    "for table in cur.fetchall():\n",
    "    print(table)"
   ]
  },
  {
   "cell_type": "code",
   "execution_count": 21,
   "id": "29a6f8f8",
   "metadata": {},
   "outputs": [],
   "source": [
    "conn.commit()"
   ]
  },
  {
   "cell_type": "code",
   "execution_count": 35,
   "id": "66cc4bae",
   "metadata": {},
   "outputs": [
    {
     "data": {
      "text/plain": [
       "['Batman None 125 1:125']"
      ]
     },
     "execution_count": 35,
     "metadata": {},
     "output_type": "execute_result"
    }
   ],
   "source": [
    "comic_name"
   ]
  },
  {
   "cell_type": "code",
   "execution_count": null,
   "id": "61853be2",
   "metadata": {},
   "outputs": [],
   "source": []
  },
  {
   "cell_type": "code",
   "execution_count": null,
   "id": "13a2e60f",
   "metadata": {},
   "outputs": [],
   "source": [
    "cur.execute(\"\"\"SELECT datname from pg_database\"\"\")"
   ]
  }
 ],
 "metadata": {
  "kernelspec": {
   "display_name": "Python 3 (ipykernel)",
   "language": "python",
   "name": "python3"
  },
  "language_info": {
   "codemirror_mode": {
    "name": "ipython",
    "version": 3
   },
   "file_extension": ".py",
   "mimetype": "text/x-python",
   "name": "python",
   "nbconvert_exporter": "python",
   "pygments_lexer": "ipython3",
   "version": "3.10.6"
  }
 },
 "nbformat": 4,
 "nbformat_minor": 5
}
