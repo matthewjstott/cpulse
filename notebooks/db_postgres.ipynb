{
 "cells": [
  {
   "cell_type": "markdown",
   "id": "14aed1c8",
   "metadata": {},
   "source": [
    "<h2 class=\"alert alert-block alert-info\"><b></b> REQUIREMENTS </h2> "
   ]
  },
  {
   "cell_type": "code",
   "execution_count": 2,
   "id": "bab48661",
   "metadata": {},
   "outputs": [],
   "source": [
    "#!pip3 install psycopg2-binary"
   ]
  },
  {
   "cell_type": "code",
   "execution_count": 3,
   "id": "8ae1e47d",
   "metadata": {},
   "outputs": [],
   "source": [
    "import os\n",
    "import psycopg2\n",
    "from dotenv import load_dotenv"
   ]
  },
  {
   "cell_type": "code",
   "execution_count": 4,
   "id": "2a430577",
   "metadata": {},
   "outputs": [],
   "source": [
    "%load_ext dotenv\n",
    "%dotenv ../.env"
   ]
  },
  {
   "cell_type": "code",
   "execution_count": 5,
   "id": "4084935e",
   "metadata": {},
   "outputs": [],
   "source": [
    "PGDATABASE = os.environ.get(\"PGDATABASE\")\n",
    "PGHOST = os.environ.get(\"PGHOST\")\n",
    "PGPASSWORD = os.environ.get(\"PGPASSWORD\")\n",
    "PGPORT = os.environ.get(\"PGPORT\")\n",
    "PGUSER = os.environ.get(\"PGUSER\")"
   ]
  },
  {
   "cell_type": "markdown",
   "id": "ac229947",
   "metadata": {},
   "source": [
    "<h2 class=\"alert alert-block alert-info\"><b></b>CONNECTION</h2> "
   ]
  },
  {
   "cell_type": "code",
   "execution_count": 6,
   "id": "08e928fd",
   "metadata": {},
   "outputs": [],
   "source": [
    "DATABASE_URL = f'postgresql://{PGUSER}:{PGPASSWORD}@{PGHOST}:{PGPORT}/{PGDATABASE}'"
   ]
  },
  {
   "cell_type": "code",
   "execution_count": 21,
   "id": "e8ae7e15",
   "metadata": {},
   "outputs": [],
   "source": [
    "try:\n",
    "    conn = psycopg2.connect(dbname=PGDATABASE, user=PGUSER, host=PGHOST, password=PGPASSWORD)\n",
    "except:\n",
    "    print(\"I am unable to connect to the database\")"
   ]
  },
  {
   "cell_type": "code",
   "execution_count": 22,
   "id": "2ce39d84",
   "metadata": {},
   "outputs": [],
   "source": [
    "cur = conn.cursor()"
   ]
  },
  {
   "cell_type": "markdown",
   "id": "0b4912f2",
   "metadata": {},
   "source": [
    "#### VIEW TABLES"
   ]
  },
  {
   "cell_type": "code",
   "execution_count": 33,
   "id": "7502bcf9",
   "metadata": {},
   "outputs": [
    {
     "name": "stdout",
     "output_type": "stream",
     "text": [
      "('fp_stocklist',)\n",
      "('fp_livelist',)\n",
      "('fp_watchlist',)\n"
     ]
    }
   ],
   "source": [
    "cur.execute(\"\"\"SELECT table_name FROM information_schema.tables\n",
    "       WHERE table_schema = 'public'\"\"\")\n",
    "for table in cur.fetchall():\n",
    "    print(table)"
   ]
  },
  {
   "cell_type": "markdown",
   "id": "87f5963a",
   "metadata": {},
   "source": [
    "<h2 class=\"alert alert-block alert-info\"><b></b>WATCHLIST</h2> "
   ]
  },
  {
   "cell_type": "markdown",
   "id": "1a3a32a0",
   "metadata": {},
   "source": [
    "#### VIEW WATCHLIST"
   ]
  },
  {
   "cell_type": "code",
   "execution_count": 34,
   "id": "9b4a1c83",
   "metadata": {},
   "outputs": [],
   "source": [
    "cur.execute(\"\"\"SELECT *\n",
    "  FROM information_schema.columns\n",
    " WHERE table_schema = 'public'\n",
    "   AND table_name   = 'fp_watchlist';\"\"\")\n",
    "result = cur.fetchall()"
   ]
  },
  {
   "cell_type": "code",
   "execution_count": 35,
   "id": "526b13e0",
   "metadata": {},
   "outputs": [
    {
     "data": {
      "text/plain": [
       "[('railway',\n",
       "  'public',\n",
       "  'fp_watchlist',\n",
       "  'id',\n",
       "  1,\n",
       "  \"nextval('fp_watchlist_id_seq'::regclass)\",\n",
       "  'NO',\n",
       "  'integer',\n",
       "  None,\n",
       "  None,\n",
       "  32,\n",
       "  2,\n",
       "  0,\n",
       "  None,\n",
       "  None,\n",
       "  None,\n",
       "  None,\n",
       "  None,\n",
       "  None,\n",
       "  None,\n",
       "  None,\n",
       "  None,\n",
       "  None,\n",
       "  None,\n",
       "  None,\n",
       "  'railway',\n",
       "  'pg_catalog',\n",
       "  'int4',\n",
       "  None,\n",
       "  None,\n",
       "  None,\n",
       "  None,\n",
       "  '1',\n",
       "  'NO',\n",
       "  'NO',\n",
       "  None,\n",
       "  None,\n",
       "  None,\n",
       "  None,\n",
       "  None,\n",
       "  'NO',\n",
       "  'NEVER',\n",
       "  None,\n",
       "  'YES'),\n",
       " ('railway',\n",
       "  'public',\n",
       "  'fp_watchlist',\n",
       "  'series',\n",
       "  2,\n",
       "  None,\n",
       "  'NO',\n",
       "  'text',\n",
       "  None,\n",
       "  1073741824,\n",
       "  None,\n",
       "  None,\n",
       "  None,\n",
       "  None,\n",
       "  None,\n",
       "  None,\n",
       "  None,\n",
       "  None,\n",
       "  None,\n",
       "  None,\n",
       "  None,\n",
       "  None,\n",
       "  None,\n",
       "  None,\n",
       "  None,\n",
       "  'railway',\n",
       "  'pg_catalog',\n",
       "  'text',\n",
       "  None,\n",
       "  None,\n",
       "  None,\n",
       "  None,\n",
       "  '2',\n",
       "  'NO',\n",
       "  'NO',\n",
       "  None,\n",
       "  None,\n",
       "  None,\n",
       "  None,\n",
       "  None,\n",
       "  'NO',\n",
       "  'NEVER',\n",
       "  None,\n",
       "  'YES'),\n",
       " ('railway',\n",
       "  'public',\n",
       "  'fp_watchlist',\n",
       "  'name',\n",
       "  3,\n",
       "  None,\n",
       "  'YES',\n",
       "  'text',\n",
       "  None,\n",
       "  1073741824,\n",
       "  None,\n",
       "  None,\n",
       "  None,\n",
       "  None,\n",
       "  None,\n",
       "  None,\n",
       "  None,\n",
       "  None,\n",
       "  None,\n",
       "  None,\n",
       "  None,\n",
       "  None,\n",
       "  None,\n",
       "  None,\n",
       "  None,\n",
       "  'railway',\n",
       "  'pg_catalog',\n",
       "  'text',\n",
       "  None,\n",
       "  None,\n",
       "  None,\n",
       "  None,\n",
       "  '3',\n",
       "  'NO',\n",
       "  'NO',\n",
       "  None,\n",
       "  None,\n",
       "  None,\n",
       "  None,\n",
       "  None,\n",
       "  'NO',\n",
       "  'NEVER',\n",
       "  None,\n",
       "  'YES'),\n",
       " ('railway',\n",
       "  'public',\n",
       "  'fp_watchlist',\n",
       "  'issue',\n",
       "  4,\n",
       "  None,\n",
       "  'NO',\n",
       "  'integer',\n",
       "  None,\n",
       "  None,\n",
       "  32,\n",
       "  2,\n",
       "  0,\n",
       "  None,\n",
       "  None,\n",
       "  None,\n",
       "  None,\n",
       "  None,\n",
       "  None,\n",
       "  None,\n",
       "  None,\n",
       "  None,\n",
       "  None,\n",
       "  None,\n",
       "  None,\n",
       "  'railway',\n",
       "  'pg_catalog',\n",
       "  'int4',\n",
       "  None,\n",
       "  None,\n",
       "  None,\n",
       "  None,\n",
       "  '4',\n",
       "  'NO',\n",
       "  'NO',\n",
       "  None,\n",
       "  None,\n",
       "  None,\n",
       "  None,\n",
       "  None,\n",
       "  'NO',\n",
       "  'NEVER',\n",
       "  None,\n",
       "  'YES'),\n",
       " ('railway',\n",
       "  'public',\n",
       "  'fp_watchlist',\n",
       "  'cover',\n",
       "  5,\n",
       "  None,\n",
       "  'YES',\n",
       "  'text',\n",
       "  None,\n",
       "  1073741824,\n",
       "  None,\n",
       "  None,\n",
       "  None,\n",
       "  None,\n",
       "  None,\n",
       "  None,\n",
       "  None,\n",
       "  None,\n",
       "  None,\n",
       "  None,\n",
       "  None,\n",
       "  None,\n",
       "  None,\n",
       "  None,\n",
       "  None,\n",
       "  'railway',\n",
       "  'pg_catalog',\n",
       "  'text',\n",
       "  None,\n",
       "  None,\n",
       "  None,\n",
       "  None,\n",
       "  '5',\n",
       "  'NO',\n",
       "  'NO',\n",
       "  None,\n",
       "  None,\n",
       "  None,\n",
       "  None,\n",
       "  None,\n",
       "  'NO',\n",
       "  'NEVER',\n",
       "  None,\n",
       "  'YES'),\n",
       " ('railway',\n",
       "  'public',\n",
       "  'fp_watchlist',\n",
       "  'url',\n",
       "  6,\n",
       "  None,\n",
       "  'NO',\n",
       "  'text',\n",
       "  None,\n",
       "  1073741824,\n",
       "  None,\n",
       "  None,\n",
       "  None,\n",
       "  None,\n",
       "  None,\n",
       "  None,\n",
       "  None,\n",
       "  None,\n",
       "  None,\n",
       "  None,\n",
       "  None,\n",
       "  None,\n",
       "  None,\n",
       "  None,\n",
       "  None,\n",
       "  'railway',\n",
       "  'pg_catalog',\n",
       "  'text',\n",
       "  None,\n",
       "  None,\n",
       "  None,\n",
       "  None,\n",
       "  '6',\n",
       "  'NO',\n",
       "  'NO',\n",
       "  None,\n",
       "  None,\n",
       "  None,\n",
       "  None,\n",
       "  None,\n",
       "  'NO',\n",
       "  'NEVER',\n",
       "  None,\n",
       "  'YES'),\n",
       " ('railway',\n",
       "  'public',\n",
       "  'fp_watchlist',\n",
       "  'date',\n",
       "  7,\n",
       "  None,\n",
       "  'NO',\n",
       "  'date',\n",
       "  None,\n",
       "  None,\n",
       "  None,\n",
       "  None,\n",
       "  None,\n",
       "  0,\n",
       "  None,\n",
       "  None,\n",
       "  None,\n",
       "  None,\n",
       "  None,\n",
       "  None,\n",
       "  None,\n",
       "  None,\n",
       "  None,\n",
       "  None,\n",
       "  None,\n",
       "  'railway',\n",
       "  'pg_catalog',\n",
       "  'date',\n",
       "  None,\n",
       "  None,\n",
       "  None,\n",
       "  None,\n",
       "  '7',\n",
       "  'NO',\n",
       "  'NO',\n",
       "  None,\n",
       "  None,\n",
       "  None,\n",
       "  None,\n",
       "  None,\n",
       "  'NO',\n",
       "  'NEVER',\n",
       "  None,\n",
       "  'YES'),\n",
       " ('railway',\n",
       "  'public',\n",
       "  'fp_watchlist',\n",
       "  'status',\n",
       "  8,\n",
       "  None,\n",
       "  'NO',\n",
       "  'boolean',\n",
       "  None,\n",
       "  None,\n",
       "  None,\n",
       "  None,\n",
       "  None,\n",
       "  None,\n",
       "  None,\n",
       "  None,\n",
       "  None,\n",
       "  None,\n",
       "  None,\n",
       "  None,\n",
       "  None,\n",
       "  None,\n",
       "  None,\n",
       "  None,\n",
       "  None,\n",
       "  'railway',\n",
       "  'pg_catalog',\n",
       "  'bool',\n",
       "  None,\n",
       "  None,\n",
       "  None,\n",
       "  None,\n",
       "  '8',\n",
       "  'NO',\n",
       "  'NO',\n",
       "  None,\n",
       "  None,\n",
       "  None,\n",
       "  None,\n",
       "  None,\n",
       "  'NO',\n",
       "  'NEVER',\n",
       "  None,\n",
       "  'YES'),\n",
       " ('railway',\n",
       "  'public',\n",
       "  'fp_watchlist',\n",
       "  'sublist',\n",
       "  9,\n",
       "  None,\n",
       "  'YES',\n",
       "  'text',\n",
       "  None,\n",
       "  1073741824,\n",
       "  None,\n",
       "  None,\n",
       "  None,\n",
       "  None,\n",
       "  None,\n",
       "  None,\n",
       "  None,\n",
       "  None,\n",
       "  None,\n",
       "  None,\n",
       "  None,\n",
       "  None,\n",
       "  None,\n",
       "  None,\n",
       "  None,\n",
       "  'railway',\n",
       "  'pg_catalog',\n",
       "  'text',\n",
       "  None,\n",
       "  None,\n",
       "  None,\n",
       "  None,\n",
       "  '9',\n",
       "  'NO',\n",
       "  'NO',\n",
       "  None,\n",
       "  None,\n",
       "  None,\n",
       "  None,\n",
       "  None,\n",
       "  'NO',\n",
       "  'NEVER',\n",
       "  None,\n",
       "  'YES')]"
      ]
     },
     "execution_count": 35,
     "metadata": {},
     "output_type": "execute_result"
    }
   ],
   "source": [
    "result"
   ]
  },
  {
   "cell_type": "code",
   "execution_count": 20,
   "id": "6834190f",
   "metadata": {},
   "outputs": [],
   "source": [
    "conn.close()"
   ]
  },
  {
   "cell_type": "code",
   "execution_count": 28,
   "id": "35c9e883",
   "metadata": {},
   "outputs": [
    {
     "data": {
      "text/plain": [
       "[('pg_toast',),\n",
       " ('pg_catalog',),\n",
       " ('public',),\n",
       " ('information_schema',),\n",
       " ('_timescaledb_cache',),\n",
       " ('_timescaledb_catalog',),\n",
       " ('_timescaledb_internal',),\n",
       " ('_timescaledb_config',),\n",
       " ('timescaledb_information',)]"
      ]
     },
     "execution_count": 28,
     "metadata": {},
     "output_type": "execute_result"
    }
   ],
   "source": [
    "result"
   ]
  },
  {
   "cell_type": "code",
   "execution_count": 27,
   "id": "6ae2112c",
   "metadata": {},
   "outputs": [],
   "source": [
    "cur.execute(\"\"\"SELECT schema_name FROM information_schema.schemata\"\"\")\n",
    "result = cur.fetchall()"
   ]
  },
  {
   "cell_type": "code",
   "execution_count": null,
   "id": "42bb04c0",
   "metadata": {},
   "outputs": [],
   "source": []
  },
  {
   "cell_type": "code",
   "execution_count": null,
   "id": "a4d0505f",
   "metadata": {},
   "outputs": [],
   "source": [
    "cur.execute(\"\"\"SELECT table_name FROM information_schema.tables\n",
    "       WHERE table_schema = 'public'\"\"\")\n",
    "for table in cur.fetchall():\n",
    "    print(table)"
   ]
  },
  {
   "cell_type": "code",
   "execution_count": null,
   "id": "97787d17",
   "metadata": {},
   "outputs": [],
   "source": [
    "conn.close()"
   ]
  },
  {
   "cell_type": "code",
   "execution_count": null,
   "id": "efe00414",
   "metadata": {},
   "outputs": [],
   "source": [
    "import re\n",
    "from string import digits"
   ]
  },
  {
   "cell_type": "code",
   "execution_count": null,
   "id": "b1100273",
   "metadata": {},
   "outputs": [],
   "source": [
    "ex_url = \"https://forbiddenplanet.com/364771-star-wars-the-high-republic-1/\""
   ]
  },
  {
   "cell_type": "code",
   "execution_count": null,
   "id": "abb75259",
   "metadata": {},
   "outputs": [],
   "source": []
  },
  {
   "cell_type": "code",
   "execution_count": null,
   "id": "85dd9bfb",
   "metadata": {},
   "outputs": [],
   "source": [
    "s.lstrip(digits)"
   ]
  },
  {
   "cell_type": "code",
   "execution_count": null,
   "id": "4f362c10",
   "metadata": {},
   "outputs": [],
   "source": [
    "'364771-star-wars-the-high-republic-1'.split('-',1)"
   ]
  },
  {
   "cell_type": "code",
   "execution_count": null,
   "id": "925be60d",
   "metadata": {},
   "outputs": [],
   "source": [
    "def parse_url_entry(forbidden_planet_url):\n",
    "    \n",
    "    forbidden_planet_url = forbidden_planet_url.rstrip('/').split('/')[-1]    \n",
    "    if forbidden_planet_url[0].isdigit():\n",
    "        forbidden_planet_url = forbidden_planet_url.split('-',1)[-1]\n",
    "        \n",
    "    return forbidden_planet_url"
   ]
  },
  {
   "cell_type": "code",
   "execution_count": null,
   "id": "8cb37bc0",
   "metadata": {},
   "outputs": [],
   "source": [
    "parse_url_entry(ex_url)"
   ]
  },
  {
   "cell_type": "code",
   "execution_count": null,
   "id": "ec2b961a",
   "metadata": {},
   "outputs": [],
   "source": [
    "set_comic_scope(**comic_dict)"
   ]
  },
  {
   "cell_type": "code",
   "execution_count": null,
   "id": "83690769",
   "metadata": {},
   "outputs": [],
   "source": [
    "comic_dict = {'series':'batman','issue_number':130,'artist':'jock','cover':None,'variant':True,'single_issue':True}"
   ]
  },
  {
   "cell_type": "code",
   "execution_count": null,
   "id": "4da27b02",
   "metadata": {},
   "outputs": [],
   "source": [
    "def set_comic_scope(series=None, issue_number = None, artist = None, cover=None, variant = False, single_issue = True, return_format = 'string'):\n",
    "    \n",
    "    print(series)\n",
    "    match_strings = []\n",
    "    match_strings.append(hyphen_wrapper(series))\n",
    "    if single_issue and issue_number:\n",
    "        match_strings.append(hyphen_wrapper(str(issue_number)))\n",
    "    if artist:\n",
    "        match_strings.append(hyphen_wrapper(artist))\n",
    "    if cover:\n",
    "        match_strings.append(hyphen_wrapper(f'cover-{cover}'))\n",
    "    if variant:\n",
    "        match_strings.append(hyphen_wrapper('variant'))\n",
    "    \n",
    "    if return_format == 'string':\n",
    "        match_strings = ''.join(match_strings).lstrip('-')\n",
    "        \n",
    "    return match_strings"
   ]
  },
  {
   "cell_type": "code",
   "execution_count": null,
   "id": "a2f9a2bf",
   "metadata": {},
   "outputs": [],
   "source": []
  },
  {
   "cell_type": "code",
   "execution_count": null,
   "id": "cd3207fe",
   "metadata": {},
   "outputs": [],
   "source": []
  },
  {
   "cell_type": "code",
   "execution_count": null,
   "id": "b54148c9",
   "metadata": {},
   "outputs": [],
   "source": []
  },
  {
   "cell_type": "code",
   "execution_count": null,
   "id": "97e33d5e",
   "metadata": {},
   "outputs": [],
   "source": [
    "valid_columns = tuple([col for col in comic_dict.keys() if comic_dict[col]])\n",
    "valid_values = tuple([comic_dict[col] for col in valid_columns])"
   ]
  },
  {
   "cell_type": "code",
   "execution_count": null,
   "id": "555f84b6",
   "metadata": {},
   "outputs": [],
   "source": []
  },
  {
   "cell_type": "code",
   "execution_count": null,
   "id": "cfaaf14e",
   "metadata": {},
   "outputs": [],
   "source": [
    "def append_known_comic(comic_url, lists = []):\n",
    "    "
   ]
  },
  {
   "cell_type": "code",
   "execution_count": null,
   "id": "d83bb19e",
   "metadata": {},
   "outputs": [],
   "source": [
    "def append_unkown_comic(comic_dict):\n",
    "    \n",
    "    comic_scope = set_comic_scope(**comic_dict)\n",
    "    comic_dict['local_name'] = comic_scope\n",
    "    valid_columns = tuple([col for col in comic_dict.keys() if comic_dict[col]])\n",
    "    valid_values = tuple([comic_dict[col] for col in valid_columns])\n",
    "    valid_formats =1\n",
    "    \n",
    "    print(valid_values)\n",
    "    \n",
    "    table_columns = ('id','series','name','issue','cover','local_name','list','status')\n",
    "    \n",
    "    cur.execute(f\"INSERT INTO comic_watch {table_columns} VALUES(%s,%s,%s,%s,%s,%s)\", valid_values)\n"
   ]
  },
  {
   "cell_type": "code",
   "execution_count": null,
   "id": "8edac2e4",
   "metadata": {},
   "outputs": [],
   "source": [
    "comic_dict = {'series':'batman','issue_number':130,'artist':'jock','cover':None,'variant':True,'single_issue':True}\n",
    "append_unkown_comic(comic_dict)"
   ]
  },
  {
   "cell_type": "code",
   "execution_count": null,
   "id": "defbd06c",
   "metadata": {},
   "outputs": [],
   "source": []
  },
  {
   "cell_type": "code",
   "execution_count": null,
   "id": "b29d7061",
   "metadata": {},
   "outputs": [],
   "source": [
    "#set_comic_scope(series, issue_number = None, artist = None, cover=None, variant = False, single_issue = True)"
   ]
  },
  {
   "cell_type": "code",
   "execution_count": null,
   "id": "f86328b7",
   "metadata": {},
   "outputs": [],
   "source": [
    "set_comic_scope('batman',130,'jock')"
   ]
  },
  {
   "cell_type": "code",
   "execution_count": null,
   "id": "b7451e58",
   "metadata": {},
   "outputs": [],
   "source": [
    "def hyphen_wrapper(text):\n",
    "    if len(text.split()) == 1 and '*' in text:\n",
    "        return text.replace('*','')\n",
    "    else:\n",
    "        return '-'+'-'.join(text.split())"
   ]
  },
  {
   "cell_type": "code",
   "execution_count": 40,
   "id": "42db6983",
   "metadata": {},
   "outputs": [],
   "source": [
    "xx = zip(comic_names, comic_urls)"
   ]
  },
  {
   "cell_type": "code",
   "execution_count": 42,
   "id": "3d06d179",
   "metadata": {},
   "outputs": [],
   "source": [
    "for comic in xx:\n",
    "    print(comic[0],comic[1])"
   ]
  },
  {
   "cell_type": "code",
   "execution_count": null,
   "id": "ef48d8ff",
   "metadata": {},
   "outputs": [],
   "source": []
  },
  {
   "cell_type": "code",
   "execution_count": 38,
   "id": "d60dfd99",
   "metadata": {},
   "outputs": [],
   "source": [
    "comic_names = [' '.join([str(value) for value in comic[:4] if value]) for comic in comics]\n",
    "comic_urls = [value[-1] for value in comics]"
   ]
  },
  {
   "cell_type": "code",
   "execution_count": 28,
   "id": "4ad0c638",
   "metadata": {},
   "outputs": [],
   "source": [
    "cur.execute(\"\"\"SELECT series, name, issue, cover, url FROM fp_watchlist WHERE status=TRUE;\"\"\")\n",
    "comics = cur.fetchall()\n"
   ]
  },
  {
   "cell_type": "code",
   "execution_count": 17,
   "id": "0700bce0",
   "metadata": {},
   "outputs": [
    {
     "ename": "ProgrammingError",
     "evalue": "no results to fetch",
     "output_type": "error",
     "traceback": [
      "\u001b[0;31m---------------------------------------------------------------------------\u001b[0m",
      "\u001b[0;31mProgrammingError\u001b[0m                          Traceback (most recent call last)",
      "Cell \u001b[0;32mIn [17], line 1\u001b[0m\n\u001b[0;32m----> 1\u001b[0m \u001b[38;5;28;01mfor\u001b[39;00m table \u001b[38;5;129;01min\u001b[39;00m \u001b[43mcur\u001b[49m\u001b[38;5;241;43m.\u001b[39;49m\u001b[43mfetchall\u001b[49m\u001b[43m(\u001b[49m\u001b[43m)\u001b[49m:\n\u001b[1;32m      2\u001b[0m     \u001b[38;5;28mprint\u001b[39m(table)\n",
      "\u001b[0;31mProgrammingError\u001b[0m: no results to fetch"
     ]
    }
   ],
   "source": [
    "for table in cur.fetchall():\n",
    "    print(table)"
   ]
  },
  {
   "cell_type": "code",
   "execution_count": 21,
   "id": "29a6f8f8",
   "metadata": {},
   "outputs": [],
   "source": [
    "conn.commit()"
   ]
  },
  {
   "cell_type": "code",
   "execution_count": 35,
   "id": "66cc4bae",
   "metadata": {},
   "outputs": [
    {
     "data": {
      "text/plain": [
       "['Batman None 125 1:125']"
      ]
     },
     "execution_count": 35,
     "metadata": {},
     "output_type": "execute_result"
    }
   ],
   "source": [
    "comic_name"
   ]
  },
  {
   "cell_type": "code",
   "execution_count": null,
   "id": "61853be2",
   "metadata": {},
   "outputs": [],
   "source": []
  },
  {
   "cell_type": "code",
   "execution_count": null,
   "id": "13a2e60f",
   "metadata": {},
   "outputs": [],
   "source": [
    "cur.execute(\"\"\"SELECT datname from pg_database\"\"\")"
   ]
  }
 ],
 "metadata": {
  "kernelspec": {
   "display_name": "Python 3 (ipykernel)",
   "language": "python",
   "name": "python3"
  },
  "language_info": {
   "codemirror_mode": {
    "name": "ipython",
    "version": 3
   },
   "file_extension": ".py",
   "mimetype": "text/x-python",
   "name": "python",
   "nbconvert_exporter": "python",
   "pygments_lexer": "ipython3",
   "version": "3.10.6"
  }
 },
 "nbformat": 4,
 "nbformat_minor": 5
}
