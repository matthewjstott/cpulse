{
 "cells": [
  {
   "cell_type": "code",
   "execution_count": null,
   "id": "d38b665f",
   "metadata": {},
   "outputs": [],
   "source": [
    "import requests\n",
    "from bs4 import BeautifulSoup as soup\n",
    "from urllib.parse import urlencode\n",
    "import contextlib\n",
    "import datetime\n",
    "from urllib.request import urlopen\n",
    "from pushover import Pushover"
   ]
  },
  {
   "cell_type": "code",
   "execution_count": null,
   "id": "ad726c3d",
   "metadata": {},
   "outputs": [],
   "source": [
    "class ForbiddenPlanet:\n",
    "    \n",
    "    \n",
    "    def __init__(self, get_live_sitemap = True):\n",
    "        \n",
    "        self.sitemap_home = 'https://forbiddenplanet.com/sitemap.xml'\n",
    "        self.webpage_home = 'https://forbiddenplanet.com'\n",
    "        if get_live_sitemap:\n",
    "            self.products = self.get_current_products()\n",
    "            \n",
    "        else:\n",
    "            print('dam')\n",
    "    \n",
    "    def get_max_product_pages(self):\n",
    "\n",
    "        res = requests.get(self.sitemap_home)\n",
    "        data = res.text\n",
    "        sres = soup(data)\n",
    "        relivant_pages = [x.text.strip() for x in sres.findAll('loc') if '/sitemap-products' in x.text]\n",
    "        max_page = max([int(x.split('?p=')[-1].strip()) for x in relivant_pages if '?p=' in x])\n",
    "\n",
    "        return max_page\n",
    "        \n",
    "    def get_current_products(self):\n",
    "    \n",
    "        current_max_pages = self.get_max_product_pages()\n",
    "        products = []\n",
    "        for page in range(1,current_max_pages+1):\n",
    "            print(f'Currently parsing page {page} of {current_max_pages}...')\n",
    "            res = requests.get(f'https://forbiddenplanet.com/sitemap-products.xml?p={page}').text\n",
    "            sres = soup(res)\n",
    "            products.append([x.loc.text.strip() for x in sres.findAll('url')])\n",
    "\n",
    "        flattened_products = [i for j in products for i in j] \n",
    "        return flattened_products  \n",
    "        \n",
    "    def get_stock_count(self, product_url):\n",
    "        \n",
    "        res = soup(requests.get(product_url).text)\n",
    "        stock_number = [x.string.strip().split('stock_count\":')[-1].split(',')[0] for x in res.find_all('script') if x.string if 'stock_count' in x.string]\n",
    "        stock_number, = [float('nan') if not x.isdigit() else int(x) for x in stock_number]\n",
    "        return stock_number\n",
    "    \n",
    "    def hyphen_wrapper(self, text):\n",
    "        if len(text.split()) == 1 and '*' in text:\n",
    "            return text.replace('*','')\n",
    "        else:\n",
    "            return '-'+'-'.join(text.split())\n",
    "    \n",
    "    \n",
    "    def set_comic_scope(self, series, issue_number = None, artist = None, cover=None, variant = False, single_issue = True):\n",
    "    \n",
    "        match_strings = []\n",
    "        match_strings.append(self.hyphen_wrapper(series))\n",
    "        if single_issue and issue_number:\n",
    "            match_strings.append(self.hyphen_wrapper(str(issue_number)))\n",
    "        if artist:\n",
    "            match_strings.append(self.hyphen_wrapper(artist))    \n",
    "        if cover:\n",
    "            match_strings.append(self.hyphen_wrapper(f'cover-{cover}'))    \n",
    "        if variant:\n",
    "            match_strings.append(self.hyphen_wrapper('variant'))\n",
    "\n",
    "        return match_strings\n",
    "    \n",
    "    \n",
    "    def exercute_search_vectors(self, comic_scope, search_vector = 'sitemap'):\n",
    "        \n",
    "        if search_vector == 'sitemap':\n",
    "            current_products = self.products\n",
    "            matching_comics = [url for url in current_products if all(feature in url for feature in comic_scope)]\n",
    "            return matching_comics\n"
   ]
  },
  {
   "cell_type": "code",
   "execution_count": null,
   "id": "d0ef67e5",
   "metadata": {},
   "outputs": [],
   "source": []
  },
  {
   "cell_type": "code",
   "execution_count": null,
   "id": "938cb025",
   "metadata": {},
   "outputs": [],
   "source": [
    "fp = ForbiddenPlanet(get_live_sitemap = True)"
   ]
  },
  {
   "cell_type": "code",
   "execution_count": null,
   "id": "d81c9672",
   "metadata": {},
   "outputs": [],
   "source": [
    "comic_scope = fp.set_comic_scope(series = 'batman', issue_number = 120, artist = 'jock', cover = False, variant = True)\n",
    "comic_scope = fp.set_comic_scope(series = 'blade runner 2029', issue_number = 1, artist = 'momoko', cover =False, variant = True)"
   ]
  },
  {
   "cell_type": "code",
   "execution_count": null,
   "id": "c3ce748e",
   "metadata": {},
   "outputs": [],
   "source": [
    "fp.exercute_search_vectors(comic_scope)"
   ]
  },
  {
   "cell_type": "code",
   "execution_count": null,
   "id": "07da971a",
   "metadata": {},
   "outputs": [],
   "source": [
    "fp.get_stock_count('https://forbiddenplanet.com/358139-batman-124-cover-d-filya-bratukhin-card-stock-variant/')"
   ]
  },
  {
   "cell_type": "code",
   "execution_count": null,
   "id": "035dbc22",
   "metadata": {},
   "outputs": [],
   "source": [
    "fp.exercute_search_vectors(comic_scope)"
   ]
  },
  {
   "cell_type": "code",
   "execution_count": null,
   "id": "9360aa82",
   "metadata": {},
   "outputs": [],
   "source": []
  },
  {
   "cell_type": "code",
   "execution_count": null,
   "id": "1777d9f5",
   "metadata": {},
   "outputs": [],
   "source": [
    "import fpcomics as fp"
   ]
  },
  {
   "cell_type": "code",
   "execution_count": null,
   "id": "dff49708",
   "metadata": {},
   "outputs": [],
   "source": [
    "from fpcomics import PushOver"
   ]
  },
  {
   "cell_type": "code",
   "execution_count": null,
   "id": "c1649d22",
   "metadata": {},
   "outputs": [],
   "source": []
  },
  {
   "cell_type": "code",
   "execution_count": null,
   "id": "abae815f",
   "metadata": {},
   "outputs": [],
   "source": [
    "push = PushOver()"
   ]
  },
  {
   "cell_type": "code",
   "execution_count": null,
   "id": "5b7da0bb",
   "metadata": {},
   "outputs": [],
   "source": [
    "stock_test_comic_1 = {'Batman 125 1:125':'https://forbiddenplanet.com/360496-batman-125-cover-i-alex-garner-foil-variant/'}\n",
    "stock_test_comic_2 = {'Batman 125 1:250':'https://forbiddenplanet.com/360497-batman-125-cover-j-chip-zdarsky-card-stock-variant/'}\n",
    "stock_test_comic_3 = {'Batman 125 1:500':'https://forbiddenplanet.com/360498-batman-125-cover-k-jim-lee-scott-williams-black-white-card-stock-variant/'}\n",
    "\n",
    "live_test_comic_4 = {'Batman 127 Jock Foil':['-batman', '-127', '-jock', '-variant']}\n",
    "live_test_comic_5 = {'Batman Beyond #1 Cover A':['-batman-beyond', '-1', '-murphy', '-cover-a']}"
   ]
  },
  {
   "cell_type": "code",
   "execution_count": null,
   "id": "d32fed01",
   "metadata": {},
   "outputs": [],
   "source": [
    "stock_list = [stock_test_comic_1, stock_test_comic_2, stock_test_comic_3]"
   ]
  },
  {
   "cell_type": "code",
   "execution_count": null,
   "id": "81a24215",
   "metadata": {},
   "outputs": [],
   "source": [
    "#a = push.set_comic_scope(series = 'batman', issue_number = 127, artist = 'jock', cover = False, variant = True)\n",
    "#b = push.set_comic_scope(series = 'batman beyond', issue_number = 1, artist = 'murphy', cover = 'a', variant = False)"
   ]
  },
  {
   "cell_type": "code",
   "execution_count": null,
   "id": "5ee2c11d",
   "metadata": {},
   "outputs": [],
   "source": [
    "live_list = [['-batman', '-127', '-jock', '-variant'], ['-batman-beyond', '-1', '-murphy', '-cover-a']]"
   ]
  },
  {
   "cell_type": "code",
   "execution_count": null,
   "id": "98613ac5",
   "metadata": {},
   "outputs": [],
   "source": [
    "#notif = push.format_live_notification(live_list)\n",
    "#notif = push.format_oos_notification(stock_list)\n",
    "notif = push.format_watchlist_notification(stock_list)"
   ]
  },
  {
   "cell_type": "code",
   "execution_count": null,
   "id": "10507f2e",
   "metadata": {},
   "outputs": [],
   "source": [
    "push.send_notification(notif)"
   ]
  },
  {
   "cell_type": "code",
   "execution_count": null,
   "id": "6533e4d7",
   "metadata": {},
   "outputs": [],
   "source": [
    "def watchlist_main():\n",
    "    push = PushOver()\n",
    "    stock_test_comic_1 = {'Batman 125 1:125':'https://forbiddenplanet.com/360496-batman-125-cover-i-alex-garner-foil-variant/'}\n",
    "    stock_test_comic_2 = {'Batman 125 1:250':'https://forbiddenplanet.com/360497-batman-125-cover-j-chip-zdarsky-card-stock-variant/'}\n",
    "    stock_test_comic_3 = {'Batman 125 1:500':'https://forbiddenplanet.com/360498-batman-125-cover-k-jim-lee-scott-williams-black-white-card-stock-variant/'}\n",
    "    stock_list = [stock_test_comic_1, stock_test_comic_2, stock_test_comic_3]\n",
    "    notif = push.format_watchlist_notification(stock_list)\n",
    "    push.send_notification(notif)\n",
    "    "
   ]
  },
  {
   "cell_type": "code",
   "execution_count": null,
   "id": "2172187e",
   "metadata": {},
   "outputs": [],
   "source": [
    "stock_list = [('Batman 125 1:125','https://forbiddenplanet.com/360496-batman-125-cover-i-alex-garner-foil-variant/'),('Batman 125 1:250','https://forbiddenplanet.com/360497-batman-125-cover-j-chip-zdarsky-card-stock-variant/'),('Batman 125 1:500','https://forbiddenplanet.com/360498-batman-125-cover-k-jim-lee-scott-williams-black-white-card-stock-variant/')]"
   ]
  },
  {
   "cell_type": "code",
   "execution_count": null,
   "id": "295135ce",
   "metadata": {},
   "outputs": [],
   "source": []
  },
  {
   "cell_type": "code",
   "execution_count": null,
   "id": "8cbc052a",
   "metadata": {},
   "outputs": [],
   "source": [
    "bjson = build_new_watchlist('Batman List', stock_list)"
   ]
  },
  {
   "cell_type": "code",
   "execution_count": null,
   "id": "56713848",
   "metadata": {},
   "outputs": [],
   "source": [
    "def build_new_watchlist(listname, entries):\n",
    "    return {listname : dict(entries)}\n",
    "    \n",
    "    "
   ]
  },
  {
   "cell_type": "code",
   "execution_count": null,
   "id": "7aff44b8",
   "metadata": {},
   "outputs": [],
   "source": [
    "ex_comics = {'Batman 124 Bratukhin Variant':'https://forbiddenplanet.com/358139-batman-124-cover-d-filya-bratukhin-card-stock-variant/','Batman 125 Zdarsky':'https://forbiddenplanet.com/360497-batman-125-cover-j-chip-zdarsky-card-stock-variant/', 'Batman: Beyond The White Knight #1': 'https://forbiddenplanet.com/355848-batman-beyond-the-white-knight-1-2nd-printing-foil-variant/?utm_medium=promotion&utm_source=recently-viewed&utm_campaign=recently-viewed'}"
   ]
  },
  {
   "cell_type": "code",
   "execution_count": null,
   "id": "82c4726d",
   "metadata": {},
   "outputs": [],
   "source": [
    "with open('comic_lists/watchlist.json', 'w') as fp:\n",
    "    json.dump(bjson , fp)"
   ]
  },
  {
   "cell_type": "code",
   "execution_count": null,
   "id": "4b855225",
   "metadata": {},
   "outputs": [],
   "source": [
    "def load_json_file(list_type = 'watchlist'):\n",
    "    \n",
    "    f = open(f'comic_lists/{list_type}.json')\n",
    "    data = json.load(f)\n",
    "    f.close()\n",
    "    return data\n",
    "    "
   ]
  },
  {
   "cell_type": "code",
   "execution_count": null,
   "id": "fd0c6feb",
   "metadata": {},
   "outputs": [],
   "source": [
    "import json\n",
    "  \n",
    "# Opening JSON file\n",
    "f = open('comic_lists/watchlist.json')\n",
    "  \n",
    "# returns JSON object as \n",
    "# a dictionary\n",
    "data = json.load(f)\n",
    "f.close()"
   ]
  },
  {
   "cell_type": "code",
   "execution_count": null,
   "id": "7f7d1fd5",
   "metadata": {},
   "outputs": [],
   "source": [
    "import http.client, urllib\n",
    "conn = http.client.HTTPSConnection(\"api.pushover.net:443\")\n",
    "conn.request(\"POST\", \"/1/messages.json\",\n",
    "  urllib.parse.urlencode({\n",
    "    \"token\": \"as7247rm3nynymrm5giszfbcj7u81z\",\n",
    "    \"user\": \"urvyua61kboivihbpw7idicikze13z\",\n",
    "    \"message\": \"hello world <b>word</b>\",\n",
    "    \"html\":1,  \n",
    "  }), { \"Content-type\": \"application/x-www-form-urlencoded\" })\n",
    "conn.getresponse()"
   ]
  },
  {
   "cell_type": "code",
   "execution_count": null,
   "id": "6ccfb64d",
   "metadata": {},
   "outputs": [],
   "source": [
    "make_tiny('https://forbiddenplanet.com/355848-batman-beyond-the-white-knight-1-2nd-printing-foil-variant/?utm_medium=promotion&utm_source=recently-viewed&utm_campaign=recently-viewed')"
   ]
  },
  {
   "cell_type": "code",
   "execution_count": null,
   "id": "5e084612",
   "metadata": {},
   "outputs": [],
   "source": [
    "from urllib.parse import urlencode\n",
    "import contextlib\n",
    "import datetime\n",
    "from urllib.request import urlopen"
   ]
  },
  {
   "cell_type": "code",
   "execution_count": null,
   "id": "aeb4b004",
   "metadata": {},
   "outputs": [],
   "source": [
    "class PushOver:\n",
    "    \n",
    "    def __init__(self):\n",
    "        \n",
    "        api_key = \"as7247rm3nynymrm5giszfbcj7u81z\"\n",
    "        user_key = \"urvyua61kboivihbpw7idicikze13z\"\n",
    "        self.po = Pushover(api_key)\n",
    "        self.po.user(user_key)\n",
    "        \n",
    "        \n",
    "    def send_notification(self, notification: str, notification_type: str = 'watchlist') -> None:\n",
    "        \n",
    "        msg = self.po.msg(notification)\n",
    "        titles = {'watchlist':\"WATCHLIST STOCK CHECK\", 'ooslist':\"OOS STOCK ALERT\", 'livelist': \"LIVE TITLE ALERT\"}\n",
    "        msg.set(\"title\", titles[notification_type])\n",
    "        msg.set(\"html\",1)\n",
    "        self.po.send(msg)\n",
    "            \n",
    "        \n",
    "    def format_watchlist_notification(self, comic_titles: dict) -> str:\n",
    "        message=[]\n",
    "        message.append(f\"==============================\")\n",
    "        message.append(f'<b>{datetime.datetime.now().strftime(\"%d-%B-%Y %H:%M:%S\")}</b>')\n",
    "        message.append(f\"==============================\")\n",
    "        for comic_title in ex_comics.items():\n",
    "\n",
    "            stock = fp.get_stock_count(comic_title[-1])\n",
    "            tiny_url = make_tiny(comic_title[-1])\n",
    "            if stock>0:\n",
    "                message.append(f\"<font color='yellow'>{comic_title[0]}</font> \\n Currently <font color='green'>IN</font> stock! :) with a Qty: <b>{stock}</b> \\n <a href='{tiny_url}'>Buy now!</a>\")\n",
    "                message.append(f\"----------------------------------\")\n",
    "            else:\n",
    "                message.append(f\"<font color='yellow'>{comic_title[0]}</font> \\n Currently <font color='red'>NOT</font> in stock! :( \")\n",
    "                message.append(f\"----------------------------------\")\n",
    "\n",
    "        message = '\\n'.join(message)          \n",
    "        return message    \n",
    "        \n",
    "        \n",
    "    def format_oos_notification(self, comic_titles: dict) -> str:\n",
    "    \n",
    "        message=[]\n",
    "        message.append(f\"==============================\")\n",
    "        message.append(f'<b>{datetime.datetime.now().strftime(\"%d-%B-%Y %H:%M:%S\")}</b>')\n",
    "        message.append(f\"==============================\")\n",
    "        for comic_title in comic_titles.items():\n",
    "\n",
    "            stock = fp.get_stock_count(comic_title[-1])\n",
    "            tiny_url = make_tiny(comic_title[-1])\n",
    "            if stock>0:\n",
    "                message.append(f\"<font color='yellow'>{comic_title[0]}</font> \\n Looks to be back <font color='green'>IN</font> stock! :) with a Qty: <b>{stock}</b> \\n <a href='{tiny_url}'>Buy now!</a>\")\n",
    "                message.append(f\"----------------------------------\")\n",
    "            else:\n",
    "                continue\n",
    "\n",
    "        message = '\\n'.join(message) \n",
    "    return message   \n",
    "\n",
    "\n",
    "    def format_live_notification(self, comic_titles: dict) -> str:\n",
    "\n",
    "        message=[]\n",
    "        message.append(f\"==============================\")\n",
    "        message.append(f'<b>{datetime.datetime.now().strftime(\"%d-%B-%Y %H:%M:%S\")}</b>')\n",
    "        message.append(f\"==============================\")\n",
    "\n",
    "        for comic_scope in comic_titles.items():\n",
    "            print(comic_scope)\n",
    "            live_status = fp.exercute_search_vectors(comic_scope[-1])\n",
    "            print('*************')\n",
    "            print(live_status, 'status')\n",
    "\n",
    "            if len(live_status) == 1:\n",
    "                stock = fp.get_stock_count(live_status[0])\n",
    "                tiny_url = make_tiny(live_status[0])\n",
    "                if stock > 0:\n",
    "                    message.append(f\"<font color='yellow'>{scope_format_convertion(comic_scope[-1])}</font> \\n is <font color='green'>LIVE</font> and <font color='green'>IN STOCK</font> Qty: <b>{stock}</b> \\n <a href='{tiny_url}'>Buy now!</a>\")\n",
    "                    message.append(f\"----------------------------------\")\n",
    "                elif stock == 0:\n",
    "                    message.append(f\"<font color='yellow'>{scope_format_convertion(comic_scope[-1])}</font> \\n is <font color='green'>LIVE</font> but <font color='red'>OOS</font> \\n <a href='{tiny_url}'>Watch here!</a>\")\n",
    "                    message.append(f\"----------------------------------\")\n",
    "            elif not live_status:\n",
    "                print('YEAHHH')\n",
    "                message.append(f\"<font color='yellow'>{scope_format_convertion(comic_scope[-1])}</font> \\n is <font color='red'>NOT</font> live yet. <b>{stock}</b>\")\n",
    "                message.append(f\"----------------------------------\")\n",
    "\n",
    "\n",
    "        message = '\\n'.join(message) \n",
    "        return message\n",
    "    \n",
    "    \n",
    "    def scope_format_convertion(comic_scope: list) -> str:\n",
    "        comic_scope = [x.replace('-',' ').title() for x in comic_scope]\n",
    "        return ' -'.join(comic_scope).strip()\n",
    "    \n",
    "    def make_tiny(url: str) -> str:\n",
    "        request_url = ('http://tinyurl.com/api-create.php?' + urlencode({'url':url}))   \n",
    "        with contextlib.closing(urlopen(request_url)) as response:                      \n",
    "            return response.read().decode('utf-8 ') \n",
    "        \n",
    "        \n",
    "        \n",
    "        "
   ]
  },
  {
   "cell_type": "code",
   "execution_count": null,
   "id": "8579ec6c",
   "metadata": {},
   "outputs": [],
   "source": [
    "def check_upcoming_list():\n",
    "    \n",
    "    for comic_title in upcoming_list:\n",
    "        "
   ]
  },
  {
   "cell_type": "code",
   "execution_count": null,
   "id": "d7dde550",
   "metadata": {},
   "outputs": [],
   "source": [
    "ex_comics = {'Batman 124 Bratukhin Variant':'https://forbiddenplanet.com/358139-batman-124-cover-d-filya-bratukhin-card-stock-variant/','Batman 125 Zdarsky':'https://forbiddenplanet.com/360497-batman-125-cover-j-chip-zdarsky-card-stock-variant/', 'Batman: Beyond The White Knight #1': 'https://forbiddenplanet.com/355848-batman-beyond-the-white-knight-1-2nd-printing-foil-variant/?utm_medium=promotion&utm_source=recently-viewed&utm_campaign=recently-viewed'}"
   ]
  },
  {
   "cell_type": "code",
   "execution_count": null,
   "id": "81963e3a",
   "metadata": {},
   "outputs": [],
   "source": []
  },
  {
   "cell_type": "code",
   "execution_count": null,
   "id": "0a8b79e3",
   "metadata": {},
   "outputs": [],
   "source": [
    "message = format_oos_notification()"
   ]
  },
  {
   "cell_type": "code",
   "execution_count": null,
   "id": "dc91eb12",
   "metadata": {},
   "outputs": [],
   "source": [
    "send_notification(message, notification_type = 'ooslist')"
   ]
  },
  {
   "cell_type": "code",
   "execution_count": null,
   "id": "557d4d51",
   "metadata": {},
   "outputs": [],
   "source": [
    "#fp.set_comic_scope(series = 'batman', issue_number = 125, artist = 'jock', cover =False, variant = True)\n",
    "comic_scope_1 = fp.set_comic_scope(series = 'batman', issue_number = 125, artist = 'jock', cover =False, variant = True)\n",
    "comic_scope_2 = fp.set_comic_scope(series = 'batman', issue_number = 128, artist = 'jock', cover =False, variant = True)\n"
   ]
  },
  {
   "cell_type": "code",
   "execution_count": null,
   "id": "3d407d0c",
   "metadata": {},
   "outputs": [],
   "source": [
    "ex_comics = {'Batman 125 Jock': comic_scope_1, 'Batman 128 Jock' : comic_scope_2}"
   ]
  },
  {
   "cell_type": "code",
   "execution_count": null,
   "id": "effd66c2",
   "metadata": {},
   "outputs": [],
   "source": []
  },
  {
   "cell_type": "code",
   "execution_count": null,
   "id": "691fb302",
   "metadata": {},
   "outputs": [],
   "source": [
    "message = format_live_notification()"
   ]
  },
  {
   "cell_type": "code",
   "execution_count": null,
   "id": "799f5b90",
   "metadata": {},
   "outputs": [],
   "source": [
    "def scope_format_convertion(comic_scope):\n",
    "    comic_scope = [x.replace('-',' ').title() for x in comic_scope]\n",
    "    return ' -'.join(comic_scope).strip()"
   ]
  },
  {
   "cell_type": "code",
   "execution_count": null,
   "id": "a7e7a266",
   "metadata": {},
   "outputs": [],
   "source": [
    "scope_format_convertion(comic_scope)"
   ]
  },
  {
   "cell_type": "code",
   "execution_count": null,
   "id": "d86bd22c",
   "metadata": {},
   "outputs": [],
   "source": [
    "send_notification(message, notification_type = 'livelist')"
   ]
  },
  {
   "cell_type": "code",
   "execution_count": null,
   "id": "0887a7ec",
   "metadata": {},
   "outputs": [],
   "source": [
    "list(comics.values())"
   ]
  },
  {
   "cell_type": "code",
   "execution_count": null,
   "id": "19d59fae",
   "metadata": {},
   "outputs": [],
   "source": [
    "comics = load_json_file('watchlist')"
   ]
  },
  {
   "cell_type": "code",
   "execution_count": 1,
   "id": "33368ab0",
   "metadata": {},
   "outputs": [],
   "source": [
    "from fpcomics import PushOver"
   ]
  },
  {
   "cell_type": "code",
   "execution_count": 2,
   "id": "5254b91b",
   "metadata": {},
   "outputs": [],
   "source": [
    "def watchlist_main(watchlist):\n",
    "    push = PushOver(get_live_sitemap = False)\n",
    "    comics = load_json_file(watchlist)\n",
    "    notif = push.format_watchlist_notification(comics)\n",
    "    push.send_notification(notif, *list(comics.keys()))"
   ]
  },
  {
   "cell_type": "code",
   "execution_count": 5,
   "id": "7c24494d",
   "metadata": {},
   "outputs": [
    {
     "name": "stderr",
     "output_type": "stream",
     "text": [
      "/Users/matt/Documents/fp_code/fpcomics.py:52: GuessedAtParserWarning: No parser was explicitly specified, so I'm using the best available HTML parser for this system (\"lxml\"). This usually isn't a problem, but if you run this code on another system, or in a different virtual environment, it may use a different parser and behave differently.\n",
      "\n",
      "The code that caused this warning is on line 52 of the file /Users/matt/Documents/fp_code/fpcomics.py. To get rid of this warning, pass the additional argument 'features=\"lxml\"' to the BeautifulSoup constructor.\n",
      "\n",
      "  res = soup(requests.get(product_url).text)\n"
     ]
    }
   ],
   "source": [
    "watchlist_main('watchlist')"
   ]
  },
  {
   "cell_type": "code",
   "execution_count": 3,
   "id": "b4cfeb55",
   "metadata": {},
   "outputs": [],
   "source": [
    "def load_json_file(list_type = 'watchlist'):\n",
    "    \n",
    "    f = open(f'comic_lists/{list_type}.json')\n",
    "    data = json.load(f)\n",
    "    f.close()\n",
    "    return data"
   ]
  },
  {
   "cell_type": "code",
   "execution_count": 4,
   "id": "a3cfd33e",
   "metadata": {},
   "outputs": [],
   "source": [
    "import json"
   ]
  },
  {
   "cell_type": "code",
   "execution_count": null,
   "id": "1146b54d",
   "metadata": {},
   "outputs": [],
   "source": []
  },
  {
   "cell_type": "code",
   "execution_count": null,
   "id": "e2f93d77",
   "metadata": {},
   "outputs": [],
   "source": []
  }
 ],
 "metadata": {
  "kernelspec": {
   "display_name": "3.10.5",
   "language": "python",
   "name": "3.10.5"
  },
  "language_info": {
   "codemirror_mode": {
    "name": "ipython",
    "version": 3
   },
   "file_extension": ".py",
   "mimetype": "text/x-python",
   "name": "python",
   "nbconvert_exporter": "python",
   "pygments_lexer": "ipython3",
   "version": "3.10.5"
  }
 },
 "nbformat": 4,
 "nbformat_minor": 5
}
