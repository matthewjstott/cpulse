{
 "cells": [
  {
   "cell_type": "code",
   "execution_count": 9,
   "id": "d38b665f",
   "metadata": {},
   "outputs": [],
   "source": [
    "import requests\n",
    "from bs4 import BeautifulSoup as soup"
   ]
  },
  {
   "cell_type": "code",
   "execution_count": 2,
   "id": "21b5de8d",
   "metadata": {},
   "outputs": [],
   "source": [
    "def get_fp_product_pages():\n",
    "    BASE_URL = 'https://forbiddenplanet.com/sitemap.xml'\n",
    "    res = requests.get(BASE_URL)\n",
    "    data = res.text\n",
    "    sres = soup(data)\n",
    "    \n",
    "    relivant_pages = [x.text.strip() for x in sres.findAll('loc') if '/sitemap-products' in x.text]\n",
    "    max_page = max([int(x.split('?p=')[-1].strip()) for x in relivant_pages if '?p=' in x])\n",
    "                        \n",
    "    return max_page\n",
    "    "
   ]
  },
  {
   "cell_type": "code",
   "execution_count": 3,
   "id": "185c2ccd",
   "metadata": {},
   "outputs": [],
   "source": [
    "def parse_fp_sitemap():\n",
    "    \n",
    "    current_max_pages = get_fp_product_pages()\n",
    "    products = []\n",
    "    for page in range(1,current_max_pages+1):\n",
    "        print(f'Currently parsing page {page} of {current_max_pages}...')\n",
    "        res = requests.get(f'https://forbiddenplanet.com/sitemap-products.xml?p={page}').text\n",
    "        sres = soup(res)\n",
    "        products.append([x.text.strip() for x in sres.findAll('url')])\n",
    "        \n",
    "    flattened_products = [i for j in products for i in j] \n",
    "    return flattened_products    "
   ]
  },
  {
   "cell_type": "code",
   "execution_count": 4,
   "id": "b9b17781",
   "metadata": {},
   "outputs": [
    {
     "name": "stdout",
     "output_type": "stream",
     "text": [
      "Currently parsing page 1 of 27...\n",
      "Currently parsing page 2 of 27...\n",
      "Currently parsing page 3 of 27...\n",
      "Currently parsing page 4 of 27...\n",
      "Currently parsing page 5 of 27...\n",
      "Currently parsing page 6 of 27...\n",
      "Currently parsing page 7 of 27...\n",
      "Currently parsing page 8 of 27...\n",
      "Currently parsing page 9 of 27...\n",
      "Currently parsing page 10 of 27...\n",
      "Currently parsing page 11 of 27...\n",
      "Currently parsing page 12 of 27...\n",
      "Currently parsing page 13 of 27...\n",
      "Currently parsing page 14 of 27...\n",
      "Currently parsing page 15 of 27...\n",
      "Currently parsing page 16 of 27...\n",
      "Currently parsing page 17 of 27...\n",
      "Currently parsing page 18 of 27...\n",
      "Currently parsing page 19 of 27...\n",
      "Currently parsing page 20 of 27...\n",
      "Currently parsing page 21 of 27...\n",
      "Currently parsing page 22 of 27...\n",
      "Currently parsing page 23 of 27...\n",
      "Currently parsing page 24 of 27...\n",
      "Currently parsing page 25 of 27...\n",
      "Currently parsing page 26 of 27...\n",
      "Currently parsing page 27 of 27...\n"
     ]
    }
   ],
   "source": [
    "products = parse_fp_sitemap()"
   ]
  },
  {
   "cell_type": "code",
   "execution_count": 24,
   "id": "1dc9d33d",
   "metadata": {},
   "outputs": [],
   "source": [
    "    BASE_URL = 'https://forbiddenplanet.com/sitemap.xml'\n",
    "    res = requests.get(BASE_URL)\n",
    "    data = res.text\n",
    "    sres = soup(data) \n",
    "    relivant_pages = [x.text.strip() for x in sres.findAll('loc') if '/sitemap-products' in x.text]"
   ]
  },
  {
   "cell_type": "code",
   "execution_count": 32,
   "id": "0105b804",
   "metadata": {},
   "outputs": [
    {
     "data": {
      "text/plain": [
       "27"
      ]
     },
     "execution_count": 32,
     "metadata": {},
     "output_type": "execute_result"
    }
   ],
   "source": [
    "get_fp_product_pages()"
   ]
  },
  {
   "cell_type": "code",
   "execution_count": 39,
   "id": "b4706e7b",
   "metadata": {},
   "outputs": [
    {
     "data": {
      "text/plain": [
       "['https://forbiddenplanet.com/360781-batman-127-cover-a-jorge-jimenez/2022-07-13daily1']"
      ]
     },
     "execution_count": 39,
     "metadata": {},
     "output_type": "execute_result"
    }
   ],
   "source": [
    "[x for x in products if '360781' in x ]"
   ]
  },
  {
   "cell_type": "code",
   "execution_count": 40,
   "id": "1503b080",
   "metadata": {},
   "outputs": [
    {
     "ename": "SyntaxError",
     "evalue": "invalid syntax (3163994413.py, line 1)",
     "output_type": "error",
     "traceback": [
      "\u001b[0;36m  Input \u001b[0;32mIn [40]\u001b[0;36m\u001b[0m\n\u001b[0;31m    def get_product_stock()\u001b[0m\n\u001b[0m                           ^\u001b[0m\n\u001b[0;31mSyntaxError\u001b[0m\u001b[0;31m:\u001b[0m invalid syntax\n"
     ]
    }
   ],
   "source": [
    "def get_product_stock()"
   ]
  },
  {
   "cell_type": "code",
   "execution_count": 179,
   "id": "ad726c3d",
   "metadata": {},
   "outputs": [],
   "source": [
    "class ForbiddenPlanet:\n",
    "    \n",
    "    \n",
    "    def __init__(self, get_live_sitemap = True):\n",
    "        \n",
    "        self.sitemap_home = 'https://forbiddenplanet.com/sitemap.xml'\n",
    "        self.webpage_home = 'https://forbiddenplanet.com'\n",
    "        if get_live_sitemap:\n",
    "            self.products = self.get_current_products()\n",
    "            \n",
    "        else:\n",
    "            print('dam')\n",
    "    \n",
    "    def get_max_product_pages(self):\n",
    "\n",
    "        res = requests.get(self.sitemap_home)\n",
    "        data = res.text\n",
    "        sres = soup(data)\n",
    "        relivant_pages = [x.text.strip() for x in sres.findAll('loc') if '/sitemap-products' in x.text]\n",
    "        max_page = max([int(x.split('?p=')[-1].strip()) for x in relivant_pages if '?p=' in x])\n",
    "\n",
    "        return max_page\n",
    "        \n",
    "    def get_current_products(self):\n",
    "    \n",
    "        current_max_pages = self.get_max_product_pages()\n",
    "        products = []\n",
    "        for page in range(1,current_max_pages+1):\n",
    "            print(f'Currently parsing page {page} of {current_max_pages}...')\n",
    "            res = requests.get(f'https://forbiddenplanet.com/sitemap-products.xml?p={page}').text\n",
    "            sres = soup(res)\n",
    "            products.append([x.loc.text.strip() for x in sres.findAll('url')])\n",
    "\n",
    "        flattened_products = [i for j in products for i in j] \n",
    "        return flattened_products  \n",
    "        \n",
    "    def get_stock_count(self, product_url):\n",
    "        \n",
    "        res = soup(requests.get(product_url).text)\n",
    "        stock_number = [x.string.strip().split('stock_count\":')[-1].split(',')[0] for x in res.find_all('script') if x.string if 'stock_count' in x.string]\n",
    "        stock_number, = [float('nan') if not x.isdigit() else int(x) for x in stock_number]\n",
    "        return stock_number\n",
    "    \n",
    "    def hyphen_wrapper(self, text):\n",
    "        if len(text.split()) == 1 and '*' in text:\n",
    "            return text.replace('*','')\n",
    "        else:\n",
    "            return '-'+'-'.join(text.split())\n",
    "    \n",
    "    \n",
    "    def set_comic_scope(self, series, issue_number = None, artist = None, cover=None, variant = False, single_issue = True):\n",
    "    \n",
    "        match_strings = []\n",
    "        match_strings.append(self.hyphen_wrapper(series))\n",
    "        if single_issue and issue_number:\n",
    "            match_strings.append(self.hyphen_wrapper(str(issue_number)))\n",
    "        if artist:\n",
    "            match_strings.append(self.hyphen_wrapper(artist))    \n",
    "        if cover:\n",
    "            match_strings.append(self.hyphen_wrapper(f'cover-{cover}'))    \n",
    "        if variant:\n",
    "            match_strings.append(self.hyphen_wrapper('variant'))\n",
    "\n",
    "        return match_strings\n",
    "    \n",
    "    \n",
    "    def exercute_search_vectors(self, comic_scope, search_vector = 'sitemap'):\n",
    "        \n",
    "        if search_vector == 'sitemap':\n",
    "            current_products = self.products\n",
    "            matching_comics = [url for url in current_products if all(feature in url for feature in comic_scope)]\n",
    "            return matching_comics\n"
   ]
  },
  {
   "cell_type": "code",
   "execution_count": null,
   "id": "d0ef67e5",
   "metadata": {},
   "outputs": [],
   "source": []
  },
  {
   "cell_type": "code",
   "execution_count": 180,
   "id": "938cb025",
   "metadata": {},
   "outputs": [
    {
     "name": "stdout",
     "output_type": "stream",
     "text": [
      "Currently parsing page 1 of 27...\n",
      "Currently parsing page 2 of 27...\n",
      "Currently parsing page 3 of 27...\n",
      "Currently parsing page 4 of 27...\n",
      "Currently parsing page 5 of 27...\n",
      "Currently parsing page 6 of 27...\n",
      "Currently parsing page 7 of 27...\n",
      "Currently parsing page 8 of 27...\n",
      "Currently parsing page 9 of 27...\n",
      "Currently parsing page 10 of 27...\n",
      "Currently parsing page 11 of 27...\n",
      "Currently parsing page 12 of 27...\n",
      "Currently parsing page 13 of 27...\n",
      "Currently parsing page 14 of 27...\n",
      "Currently parsing page 15 of 27...\n",
      "Currently parsing page 16 of 27...\n",
      "Currently parsing page 17 of 27...\n",
      "Currently parsing page 18 of 27...\n",
      "Currently parsing page 19 of 27...\n",
      "Currently parsing page 20 of 27...\n",
      "Currently parsing page 21 of 27...\n",
      "Currently parsing page 22 of 27...\n",
      "Currently parsing page 23 of 27...\n",
      "Currently parsing page 24 of 27...\n",
      "Currently parsing page 25 of 27...\n",
      "Currently parsing page 26 of 27...\n",
      "Currently parsing page 27 of 27...\n"
     ]
    }
   ],
   "source": [
    "fp = ForbiddenPlanet(get_live_sitemap = True)"
   ]
  },
  {
   "cell_type": "code",
   "execution_count": 339,
   "id": "d81c9672",
   "metadata": {},
   "outputs": [],
   "source": [
    "comic_scope = fp.set_comic_scope(series = 'batman', issue_number = 120, artist = 'jock', cover = False, variant = True)"
   ]
  },
  {
   "cell_type": "code",
   "execution_count": 340,
   "id": "c3ce748e",
   "metadata": {},
   "outputs": [
    {
     "name": "stdout",
     "output_type": "stream",
     "text": [
      "[]\n",
      "The desired comic doesnt appear to be live yet :(\n"
     ]
    }
   ],
   "source": [
    "fp.exercute_search_vectors(comic_scope)"
   ]
  },
  {
   "cell_type": "code",
   "execution_count": 319,
   "id": "be3bb144",
   "metadata": {},
   "outputs": [
    {
     "data": {
      "text/plain": [
       "['-batman-', '-125-', '-jock-', '-variant-']"
      ]
     },
     "execution_count": 319,
     "metadata": {},
     "output_type": "execute_result"
    }
   ],
   "source": [
    "comic_scope"
   ]
  },
  {
   "cell_type": "code",
   "execution_count": 320,
   "id": "a85759ad",
   "metadata": {},
   "outputs": [
    {
     "data": {
      "text/plain": [
       "[]"
      ]
     },
     "execution_count": 320,
     "metadata": {},
     "output_type": "execute_result"
    }
   ],
   "source": [
    "[url for url in products if all(feature in url for feature in comic_scope)]"
   ]
  },
  {
   "cell_type": "code",
   "execution_count": null,
   "id": "983bebc2",
   "metadata": {},
   "outputs": [],
   "source": [
    "https://forbiddenplanet.com/319978-brzrkr-berzerker-1-forbidden-planet-exclusive-skan-variant-set/"
   ]
  },
  {
   "cell_type": "code",
   "execution_count": 239,
   "id": "27dd57d6",
   "metadata": {},
   "outputs": [],
   "source": [
    "def hyphen_wrapper(text):\n",
    "    if len(text.split()) == 1 and '*' in text:\n",
    "        return text.replace('*','')\n",
    "    else:\n",
    "        return '-'+'-'.join(text.split())+'-'"
   ]
  },
  {
   "cell_type": "code",
   "execution_count": 7,
   "id": "07da971a",
   "metadata": {},
   "outputs": [
    {
     "data": {
      "text/plain": [
       "6"
      ]
     },
     "execution_count": 7,
     "metadata": {},
     "output_type": "execute_result"
    }
   ],
   "source": [
    "fp.get_stock_count('https://forbiddenplanet.com/358139-batman-124-cover-d-filya-bratukhin-card-stock-variant/')"
   ]
  },
  {
   "cell_type": "code",
   "execution_count": 89,
   "id": "308f9e38",
   "metadata": {},
   "outputs": [],
   "source": [
    "comic_scope = fp.set_comic_scope(series = 'blade runner 2029', issue_number = 1, artist = 'momoko', cover =False, variant = True)"
   ]
  },
  {
   "cell_type": "code",
   "execution_count": 91,
   "id": "035dbc22",
   "metadata": {},
   "outputs": [
    {
     "name": "stdout",
     "output_type": "stream",
     "text": [
      "['https://forbiddenplanet.com/312454-blade-runner-2029-1-forbidden-planet-exclusive-momoko-virgin-variant-set/']\n",
      "great\n"
     ]
    }
   ],
   "source": [
    "fp.exercute_search_vectors(comic_scope)"
   ]
  },
  {
   "cell_type": "code",
   "execution_count": 279,
   "id": "9360aa82",
   "metadata": {},
   "outputs": [
    {
     "data": {
      "text/plain": [
       "['-blade-runner-2029-', '-momoko-', '-variant-']"
      ]
     },
     "execution_count": 279,
     "metadata": {},
     "output_type": "execute_result"
    }
   ],
   "source": [
    "fp.ge"
   ]
  },
  {
   "cell_type": "code",
   "execution_count": 281,
   "id": "1777d9f5",
   "metadata": {},
   "outputs": [
    {
     "data": {
      "text/plain": [
       "['https://forbiddenplanet.com/319579-blade-runner-2029-4-forbidden-planet-momoko-virgin-variant-set/',\n",
       " 'https://forbiddenplanet.com/317516-blade-runner-2029-2-forbidden-planet-momoko-virgin-variant-set/',\n",
       " 'https://forbiddenplanet.com/312454-blade-runner-2029-1-forbidden-planet-exclusive-momoko-virgin-variant-set/',\n",
       " 'https://forbiddenplanet.com/317518-blade-runner-2029-3-forbidden-planet-momoko-virgin-variant-set/']"
      ]
     },
     "execution_count": 281,
     "metadata": {},
     "output_type": "execute_result"
    }
   ],
   "source": [
    "urls"
   ]
  },
  {
   "cell_type": "code",
   "execution_count": 280,
   "id": "dff49708",
   "metadata": {},
   "outputs": [],
   "source": [
    "try:\n",
    "    urls = [url for url in products if all(feature in url for feature in comic_scope)]\n",
    "except ValueError:\n",
    "    print('No matching comic :(')"
   ]
  },
  {
   "cell_type": "code",
   "execution_count": 285,
   "id": "c1649d22",
   "metadata": {},
   "outputs": [
    {
     "data": {
      "text/plain": [
       "129"
      ]
     },
     "execution_count": 285,
     "metadata": {},
     "output_type": "execute_result"
    }
   ],
   "source": [
    "fp.get_stock_count(urls[3])"
   ]
  },
  {
   "cell_type": "code",
   "execution_count": null,
   "id": "abae815f",
   "metadata": {},
   "outputs": [],
   "source": [
    "def set_up_new_product_alert(search_vector = 'Multi'):\n",
    "    \n",
    "    \n",
    "   \n",
    "    "
   ]
  },
  {
   "cell_type": "code",
   "execution_count": 286,
   "id": "6533e4d7",
   "metadata": {},
   "outputs": [],
   "source": [
    "def exercute_search_vectors(comic_scope, search_vector = 'sitemap'):\n",
    "    \n",
    "    \n",
    "     if search_vector == 'sitemap':\n",
    "        current_products = self.get_current_products()\n",
    "        matching_comics = [url for url in products if all(feature in url for feature in comic_scope)]\n",
    "        if matching_comics:\n",
    "            print('great')\n",
    "        else:\n",
    "            print('The desired comic doesnt appear to be live yet :(')\n",
    "        "
   ]
  },
  {
   "cell_type": "code",
   "execution_count": null,
   "id": "8cbc052a",
   "metadata": {},
   "outputs": [],
   "source": []
  },
  {
   "cell_type": "code",
   "execution_count": 4,
   "id": "56713848",
   "metadata": {},
   "outputs": [
    {
     "data": {
      "text/plain": [
       "True"
      ]
     },
     "execution_count": 4,
     "metadata": {},
     "output_type": "execute_result"
    }
   ],
   "source": [
    "from pushover import Pushover\n",
    "\n",
    "po = Pushover(\"as7247rm3nynymrm5giszfbcj7u81z\")\n",
    "po.user(\"urvyua61kboivihbpw7idicikze13z\")\n",
    "\n"
   ]
  },
  {
   "cell_type": "code",
   "execution_count": 43,
   "id": "7aff44b8",
   "metadata": {},
   "outputs": [],
   "source": [
    "ex_comics = {'Batman 124 Bratukhin Variant':'https://forbiddenplanet.com/358139-batman-124-cover-d-filya-bratukhin-card-stock-variant/','Batman 125 Zdarsky':'https://forbiddenplanet.com/360497-batman-125-cover-j-chip-zdarsky-card-stock-variant/', 'Batman: Beyond The White Knight #1': 'https://forbiddenplanet.com/355848-batman-beyond-the-white-knight-1-2nd-printing-foil-variant/?utm_medium=promotion&utm_source=recently-viewed&utm_campaign=recently-viewed'}"
   ]
  },
  {
   "cell_type": "code",
   "execution_count": 12,
   "id": "82c4726d",
   "metadata": {},
   "outputs": [],
   "source": [
    "url = 'https://forbiddenplanet.com/358139-batman-124-cover-d-filya-bratukhin-card-stock-variant/'"
   ]
  },
  {
   "cell_type": "code",
   "execution_count": 181,
   "id": "4b855225",
   "metadata": {},
   "outputs": [],
   "source": [
    "def format_watchlist_notification():\n",
    "    message=[]\n",
    "    message.append(f\"==============================\")\n",
    "    message.append(f'<b>{datetime.datetime.now().strftime(\"%d-%B-%Y %H:%M:%S\")}</b>')\n",
    "    message.append(f\"==============================\")\n",
    "    for comic_title in ex_comics.items():\n",
    "\n",
    "        stock = fp.get_stock_count(comic_title[-1])\n",
    "        tiny_url = make_tiny(comic_title[-1])\n",
    "        if stock>0:\n",
    "            message.append(f\"<font color='yellow'>{comic_title[0]}</font> \\n Currently <font color='green'>IN</font> stock! :) with a Qty: <b>{stock}</b> \\n <a href='{tiny_url}'>Buy now!</a>\")\n",
    "            message.append(f\"----------------------------------\")\n",
    "        else:\n",
    "            message.append(f\"<font color='yellow'>{comic_title[0]}</font> \\n Currently <font color='red'>NOT</font> in stock! :( \")\n",
    "            message.append(f\"----------------------------------\")\n",
    "    \n",
    "    message = '\\n'.join(message)          \n",
    "    return message\n",
    "\n",
    "def send_notification(notification, notification_type = 'watchlist'):\n",
    "    msg = po.msg(message)\n",
    "    titles = {'watchlist':\"WATCHLIST STOCK CHECK\", 'ooslist':\"OOS STOCK ALERT\", 'livelist': \"LIVE TITLE ALERT\"}\n",
    "    msg.set(\"title\", titles[notification_type])\n",
    "    msg.set(\"html\",1)\n",
    "    po.send(msg)"
   ]
  },
  {
   "cell_type": "code",
   "execution_count": 64,
   "id": "fd0c6feb",
   "metadata": {},
   "outputs": [],
   "source": [
    "def make_tiny(url):\n",
    "    request_url = ('http://tinyurl.com/api-create.php?' + urlencode({'url':url}))   \n",
    "    with contextlib.closing(urlopen(request_url)) as response:                      \n",
    "        return response.read().decode('utf-8 ') "
   ]
  },
  {
   "cell_type": "code",
   "execution_count": 24,
   "id": "7f7d1fd5",
   "metadata": {},
   "outputs": [
    {
     "data": {
      "text/plain": [
       "<http.client.HTTPResponse at 0x10cc8da50>"
      ]
     },
     "execution_count": 24,
     "metadata": {},
     "output_type": "execute_result"
    }
   ],
   "source": [
    "import http.client, urllib\n",
    "conn = http.client.HTTPSConnection(\"api.pushover.net:443\")\n",
    "conn.request(\"POST\", \"/1/messages.json\",\n",
    "  urllib.parse.urlencode({\n",
    "    \"token\": \"as7247rm3nynymrm5giszfbcj7u81z\",\n",
    "    \"user\": \"urvyua61kboivihbpw7idicikze13z\",\n",
    "    \"message\": \"hello world <b>word</b>\",\n",
    "    \"html\":1,  \n",
    "  }), { \"Content-type\": \"application/x-www-form-urlencoded\" })\n",
    "conn.getresponse()"
   ]
  },
  {
   "cell_type": "code",
   "execution_count": 52,
   "id": "6ccfb64d",
   "metadata": {},
   "outputs": [
    {
     "data": {
      "text/plain": [
       "'https://tinyurl.com/2dmxa593'"
      ]
     },
     "execution_count": 52,
     "metadata": {},
     "output_type": "execute_result"
    }
   ],
   "source": [
    "make_tiny('https://forbiddenplanet.com/355848-batman-beyond-the-white-knight-1-2nd-printing-foil-variant/?utm_medium=promotion&utm_source=recently-viewed&utm_campaign=recently-viewed')"
   ]
  },
  {
   "cell_type": "code",
   "execution_count": 51,
   "id": "5e084612",
   "metadata": {},
   "outputs": [],
   "source": [
    "from urllib.parse import urlencode\n",
    "import contextlib\n",
    "import datetime\n",
    "from urllib.request import urlopen"
   ]
  },
  {
   "cell_type": "code",
   "execution_count": null,
   "id": "aeb4b004",
   "metadata": {},
   "outputs": [],
   "source": []
  },
  {
   "cell_type": "code",
   "execution_count": 76,
   "id": "8579ec6c",
   "metadata": {},
   "outputs": [
    {
     "ename": "SyntaxError",
     "evalue": "invalid syntax (2529556209.py, line 1)",
     "output_type": "error",
     "traceback": [
      "\u001b[0;36m  Input \u001b[0;32mIn [76]\u001b[0;36m\u001b[0m\n\u001b[0;31m    def check_status_upcoming\u001b[0m\n\u001b[0m                             ^\u001b[0m\n\u001b[0;31mSyntaxError\u001b[0m\u001b[0;31m:\u001b[0m invalid syntax\n"
     ]
    }
   ],
   "source": [
    "def check_upcoming_list():\n",
    "    \n",
    "    for comic_title in upcoming_list:\n",
    "        "
   ]
  },
  {
   "cell_type": "code",
   "execution_count": 77,
   "id": "d7dde550",
   "metadata": {},
   "outputs": [],
   "source": [
    "ex_comics = {'Batman 124 Bratukhin Variant':'https://forbiddenplanet.com/358139-batman-124-cover-d-filya-bratukhin-card-stock-variant/','Batman 125 Zdarsky':'https://forbiddenplanet.com/360497-batman-125-cover-j-chip-zdarsky-card-stock-variant/', 'Batman: Beyond The White Knight #1': 'https://forbiddenplanet.com/355848-batman-beyond-the-white-knight-1-2nd-printing-foil-variant/?utm_medium=promotion&utm_source=recently-viewed&utm_campaign=recently-viewed'}"
   ]
  },
  {
   "cell_type": "code",
   "execution_count": 84,
   "id": "81963e3a",
   "metadata": {},
   "outputs": [],
   "source": [
    "def format_oos_notification():\n",
    "    \n",
    "    message=[]\n",
    "    message.append(f\"==============================\")\n",
    "    message.append(f'<b>{datetime.datetime.now().strftime(\"%d-%B-%Y %H:%M:%S\")}</b>')\n",
    "    message.append(f\"==============================\")\n",
    "    for comic_title in ex_comics.items():\n",
    "\n",
    "        stock = fp.get_stock_count(comic_title[-1])\n",
    "        tiny_url = make_tiny(comic_title[-1])\n",
    "        if stock>0:\n",
    "            message.append(f\"<font color='yellow'>{comic_title[0]}</font> \\n Looks to be back <font color='green'>IN</font> stock! :) with a Qty: <b>{stock}</b> \\n <a href='{tiny_url}'>Buy now!</a>\")\n",
    "            message.append(f\"----------------------------------\")\n",
    "        else:\n",
    "            continue\n",
    "    \n",
    "    message = '\\n'.join(message) \n",
    "    return message"
   ]
  },
  {
   "cell_type": "code",
   "execution_count": 85,
   "id": "0a8b79e3",
   "metadata": {},
   "outputs": [],
   "source": [
    "message = format_oos_notification()"
   ]
  },
  {
   "cell_type": "code",
   "execution_count": 86,
   "id": "dc91eb12",
   "metadata": {},
   "outputs": [],
   "source": [
    "send_notification(message, notification_type = 'ooslist')"
   ]
  },
  {
   "cell_type": "code",
   "execution_count": 129,
   "id": "557d4d51",
   "metadata": {},
   "outputs": [],
   "source": [
    "#fp.set_comic_scope(series = 'batman', issue_number = 125, artist = 'jock', cover =False, variant = True)\n",
    "comic_scope_1 = fp.set_comic_scope(series = 'batman', issue_number = 125, artist = 'jock', cover =False, variant = True)\n",
    "comic_scope_2 = fp.set_comic_scope(series = 'batman', issue_number = 128, artist = 'jock', cover =False, variant = True)\n"
   ]
  },
  {
   "cell_type": "code",
   "execution_count": 130,
   "id": "3d407d0c",
   "metadata": {},
   "outputs": [],
   "source": [
    "ex_comics = {'Batman 125 Jock': comic_scope_1, 'Batman 128 Jock' : comic_scope_2}"
   ]
  },
  {
   "cell_type": "code",
   "execution_count": 185,
   "id": "effd66c2",
   "metadata": {},
   "outputs": [],
   "source": [
    "def format_live_notification():\n",
    "    \n",
    "    message=[]\n",
    "    message.append(f\"==============================\")\n",
    "    message.append(f'<b>{datetime.datetime.now().strftime(\"%d-%B-%Y %H:%M:%S\")}</b>')\n",
    "    message.append(f\"==============================\")\n",
    "    \n",
    "    for comic_scope in ex_comics.items():\n",
    "        print(comic_scope)\n",
    "        live_status = fp.exercute_search_vectors(comic_scope[-1])\n",
    "        print('*************')\n",
    "        print(live_status, 'status')\n",
    " \n",
    "        if len(live_status) == 1:\n",
    "            stock = fp.get_stock_count(live_status[0])\n",
    "            tiny_url = make_tiny(live_status[0])\n",
    "            if stock > 0:\n",
    "                message.append(f\"<font color='yellow'>{scope_format_convertion(comic_scope[-1])}</font> \\n is <font color='green'>LIVE</font> and <font color='green'>IN STOCK</font> Qty: <b>{stock}</b> \\n <a href='{tiny_url}'>Buy now!</a>\")\n",
    "                message.append(f\"----------------------------------\")\n",
    "            elif stock == 0:\n",
    "                message.append(f\"<font color='yellow'>{scope_format_convertion(comic_scope[-1])}</font> \\n is <font color='green'>LIVE</font> but <font color='red'>OOS</font> \\n <a href='{tiny_url}'>Watch here!</a>\")\n",
    "                message.append(f\"----------------------------------\")\n",
    "        elif not live_status:\n",
    "            print('YEAHHH')\n",
    "            message.append(f\"<font color='yellow'>{scope_format_convertion(comic_scope[-1])}</font> \\n is <font color='red'>NOT</font> live yet. <b>{stock}</b>\")\n",
    "            message.append(f\"----------------------------------\")\n",
    "\n",
    "    \n",
    "    message = '\\n'.join(message) \n",
    "    return message"
   ]
  },
  {
   "cell_type": "code",
   "execution_count": 186,
   "id": "691fb302",
   "metadata": {},
   "outputs": [
    {
     "name": "stdout",
     "output_type": "stream",
     "text": [
      "('Batman 125 Jock', ['-batman', '-125', '-jock', '-variant'])\n",
      "*************\n",
      "['https://forbiddenplanet.com/360495-batman-125-cover-h-jock-foil-variant/'] status\n",
      "('Batman 128 Jock', ['-batman', '-128', '-jock', '-variant'])\n",
      "*************\n",
      "[] status\n",
      "YEAHHH\n"
     ]
    }
   ],
   "source": [
    "message = format_live_notification()"
   ]
  },
  {
   "cell_type": "code",
   "execution_count": 168,
   "id": "799f5b90",
   "metadata": {},
   "outputs": [],
   "source": [
    "def scope_format_convertion(comic_scope):\n",
    "    comic_scope = [x.replace('-',' ').title() for x in comic_scope]\n",
    "    return ' -'.join(comic_scope).strip()"
   ]
  },
  {
   "cell_type": "code",
   "execution_count": 114,
   "id": "a7e7a266",
   "metadata": {},
   "outputs": [
    {
     "data": {
      "text/plain": [
       "'Blade Runner 2029 - 1 - Momoko - Variant'"
      ]
     },
     "execution_count": 114,
     "metadata": {},
     "output_type": "execute_result"
    }
   ],
   "source": [
    "scope_format_convertion(comic_scope)"
   ]
  },
  {
   "cell_type": "code",
   "execution_count": 187,
   "id": "d86bd22c",
   "metadata": {},
   "outputs": [],
   "source": [
    "send_notification(message, notification_type = 'livelist')"
   ]
  },
  {
   "cell_type": "code",
   "execution_count": null,
   "id": "0887a7ec",
   "metadata": {},
   "outputs": [],
   "source": []
  }
 ],
 "metadata": {
  "kernelspec": {
   "display_name": "3.10.5",
   "language": "python",
   "name": "3.10.5"
  },
  "language_info": {
   "codemirror_mode": {
    "name": "ipython",
    "version": 3
   },
   "file_extension": ".py",
   "mimetype": "text/x-python",
   "name": "python",
   "nbconvert_exporter": "python",
   "pygments_lexer": "ipython3",
   "version": "3.10.5"
  }
 },
 "nbformat": 4,
 "nbformat_minor": 5
}
