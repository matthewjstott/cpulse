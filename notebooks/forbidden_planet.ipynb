{
 "cells": [
  {
   "cell_type": "code",
   "execution_count": 1,
   "id": "1777d9f5",
   "metadata": {},
   "outputs": [
    {
     "name": "stdout",
     "output_type": "stream",
     "text": [
      "/Users/matt/new_dev/fpulse\n"
     ]
    }
   ],
   "source": [
    "#import fpcomics as fp\n",
    "%cd ..\n",
    "from fpcomics import Pulse\n",
    "import json"
   ]
  },
  {
   "cell_type": "code",
   "execution_count": 2,
   "id": "abae815f",
   "metadata": {},
   "outputs": [],
   "source": [
    "pulse = Pulse(get_live_sitemap = False)"
   ]
  },
  {
   "cell_type": "code",
   "execution_count": 3,
   "id": "13524779",
   "metadata": {},
   "outputs": [],
   "source": [
    "# WATCHLIST \n",
    "#comic_dict = {'Batman List':{'Batman 126 Catwoman':'https://forbiddenplanet.com/363301-batman-126-cover-g-ryan-sook-card-stock-variant/'}}\n",
    "#comic_list = 'watchlist'\n",
    "#comic_name = 'Batman 126 Catwoman'\n",
    "#comic_data = 'https://forbiddenplanet.com/363301-batman-126-cover-g-ryan-sook-card-stock-variant/'\n",
    "#pulse.add_comic(comic_list, comic_name, comic_data)\n",
    "pulse.run_livelist_notification()"
   ]
  },
  {
   "cell_type": "code",
   "execution_count": 4,
   "id": "2c512530",
   "metadata": {},
   "outputs": [
    {
     "ename": "NameError",
     "evalue": "name 'push' is not defined",
     "output_type": "error",
     "traceback": [
      "\u001b[0;31m---------------------------------------------------------------------------\u001b[0m",
      "\u001b[0;31mNameError\u001b[0m                                 Traceback (most recent call last)",
      "Input \u001b[0;32mIn [4]\u001b[0m, in \u001b[0;36m<cell line: 3>\u001b[0;34m()\u001b[0m\n\u001b[1;32m      1\u001b[0m \u001b[38;5;66;03m# WATCHLIST \u001b[39;00m\n\u001b[1;32m      2\u001b[0m comic_dict \u001b[38;5;241m=\u001b[39m {\u001b[38;5;124m'\u001b[39m\u001b[38;5;124mBatman List\u001b[39m\u001b[38;5;124m'\u001b[39m:{\u001b[38;5;124m'\u001b[39m\u001b[38;5;124mBatman 126 Catwoman\u001b[39m\u001b[38;5;124m'\u001b[39m:\u001b[38;5;124m'\u001b[39m\u001b[38;5;124mhttps://forbiddenplanet.com/363301-batman-126-cover-g-ryan-sook-card-stock-variant/\u001b[39m\u001b[38;5;124m'\u001b[39m}}\n\u001b[0;32m----> 3\u001b[0m \u001b[43mpush\u001b[49m\u001b[38;5;241m.\u001b[39madd_comic(comic_dict, mode \u001b[38;5;241m=\u001b[39m \u001b[38;5;124m'\u001b[39m\u001b[38;5;124mwatch\u001b[39m\u001b[38;5;124m'\u001b[39m)\n\u001b[1;32m      4\u001b[0m push\u001b[38;5;241m.\u001b[39mrun_watchlist_notification()\n",
      "\u001b[0;31mNameError\u001b[0m: name 'push' is not defined"
     ]
    }
   ],
   "source": [
    "# WATCHLIST \n",
    "comic_dict = {'Batman List':{'Batman 126 Catwoman':'https://forbiddenplanet.com/363301-batman-126-cover-g-ryan-sook-card-stock-variant/'}}\n",
    "push.add_comic(comic_dict, mode = 'watch')\n",
    "push.run_watchlist_notification()"
   ]
  },
  {
   "cell_type": "code",
   "execution_count": null,
   "id": "b4b40100",
   "metadata": {},
   "outputs": [],
   "source": [
    "# STOCKLIST\n",
    "comic_dict = {'Batman List':{'Batman 126 Catwoman':'https://forbiddenplanet.com/363301-batman-126-cover-g-ryan-sook-card-stock-variant/'}}\n",
    "push.add_comic(comic_dict, mode = 'stock')\n",
    "push.run_stock_notification()"
   ]
  },
  {
   "cell_type": "code",
   "execution_count": null,
   "id": "d28f1063",
   "metadata": {},
   "outputs": [],
   "source": [
    "# LIVELIST\n",
    "series= 'batman'\n",
    "issue_number = 127\n",
    "artist = 'jock'\n",
    "cover=None\n",
    "variant = False\n",
    "single_issue = True\n",
    "comic_data = push.set_comic_scope(series=series, issue_number = issue_number, artist = artist, cover=cover, variant = variant, single_issue = single_issue)"
   ]
  },
  {
   "cell_type": "code",
   "execution_count": null,
   "id": "0fca2687",
   "metadata": {},
   "outputs": [],
   "source": [
    "#comic_dict = {'Batman List':{'Batman 127 Jock':comic_data}}\n",
    "#push.add_comic(comic_dict, mode = 'live')\n",
    "push.run_livelist_notification()"
   ]
  },
  {
   "cell_type": "code",
   "execution_count": null,
   "id": "3a19951e",
   "metadata": {},
   "outputs": [],
   "source": [
    "start = {'Batman List': {'Batman 125 Jock':comic_data}}"
   ]
  },
  {
   "cell_type": "code",
   "execution_count": null,
   "id": "2fae422d",
   "metadata": {},
   "outputs": [],
   "source": [
    "push.save_to_json(start, list_type = 'livelist')"
   ]
  },
  {
   "cell_type": "code",
   "execution_count": null,
   "id": "30a0c8ca",
   "metadata": {},
   "outputs": [],
   "source": [
    "comic_data"
   ]
  },
  {
   "cell_type": "code",
   "execution_count": null,
   "id": "a91059e2",
   "metadata": {},
   "outputs": [],
   "source": [
    "#Watchlist and stocklist \n",
    "\n",
    "#example_comic \n",
    "\n",
    "\n",
    "def formulate_comic_dict(name, url, comic_list = None):\n",
    "    \n",
    "    if not comic_list:\n",
    "        return {'watchlist'.title():{name:url}}\n",
    "    else:\n",
    "        return {comic_list.title():{name:url}} \n",
    "\n",
    "name = 'Batman 1100 1:125'\n",
    "url = 'https://forbiddenplanet.com/360496-batman-125-cover-i-alex-garner-foil-variant/'\n",
    "comic_list = 'batman list'\n",
    "comic_dict = formulate_comic_dict(name, url, comic_list)"
   ]
  },
  {
   "cell_type": "code",
   "execution_count": null,
   "id": "d5ff3a74",
   "metadata": {},
   "outputs": [],
   "source": [
    "#TODO\n",
    "#def add_no_live_url:\n",
    "    \n",
    "#    return    "
   ]
  },
  {
   "cell_type": "code",
   "execution_count": null,
   "id": "81a383a1",
   "metadata": {},
   "outputs": [],
   "source": [
    "y = push.formulate_comic_dict(name, url, comic_list = 'batman list')"
   ]
  },
  {
   "cell_type": "code",
   "execution_count": null,
   "id": "2ea0dbed",
   "metadata": {},
   "outputs": [],
   "source": [
    "merge_dict_objects(x, y, path=None)"
   ]
  },
  {
   "cell_type": "code",
   "execution_count": null,
   "id": "73b19080",
   "metadata": {},
   "outputs": [],
   "source": [
    "y"
   ]
  },
  {
   "cell_type": "code",
   "execution_count": null,
   "id": "1a25c2de",
   "metadata": {},
   "outputs": [],
   "source": [
    "'Batman List' in x"
   ]
  },
  {
   "cell_type": "code",
   "execution_count": null,
   "id": "4dd2dd19",
   "metadata": {},
   "outputs": [],
   "source": []
  },
  {
   "cell_type": "code",
   "execution_count": null,
   "id": "b8f9e092",
   "metadata": {},
   "outputs": [],
   "source": []
  },
  {
   "cell_type": "code",
   "execution_count": null,
   "id": "71861d94",
   "metadata": {},
   "outputs": [],
   "source": [
    "from collections import Counter\n",
    "x.update(comic_dict)\n",
    "{k.title():v for k, v in x.items()}"
   ]
  },
  {
   "cell_type": "code",
   "execution_count": null,
   "id": "574edc50",
   "metadata": {},
   "outputs": [],
   "source": [
    "def merge_dict_objects(dict_a, dict_b, path=None):\n",
    "    \"merges b into a\"\n",
    "    dict_b = {k.title():v for k,v in dict_b.items()}\n",
    "    if path is None: path = []\n",
    "    for key in dict_b:\n",
    "        if key in dict_a:\n",
    "            if isinstance(dict_a[key], dict) and isinstance(dict_b[key], dict):\n",
    "                merge(dict_a[key], dict_b[key], path + [str(key)])\n",
    "            elif dict_a[key] == dict_b[key]:\n",
    "                pass # same leaf value\n",
    "            else:\n",
    "                raise Exception('Conflict at %s' % '.'.join(path + [str(key)]))\n",
    "        else:\n",
    "            dict_a[key] = dict_b[key]\n",
    "    return dict_a"
   ]
  },
  {
   "cell_type": "code",
   "execution_count": null,
   "id": "b8782128",
   "metadata": {},
   "outputs": [],
   "source": [
    "def save_to_json(data, list_type = 'watchlist'):\n",
    "    with open(f'comic_lists/{list_type}.json', 'w') as f:\n",
    "        json.dump(data, f)"
   ]
  },
  {
   "cell_type": "code",
   "execution_count": null,
   "id": "21617759",
   "metadata": {},
   "outputs": [],
   "source": []
  },
  {
   "cell_type": "code",
   "execution_count": null,
   "id": "857ec511",
   "metadata": {},
   "outputs": [],
   "source": [
    "def add_comic(comic_dict, mode = 'watch'):\n",
    "\n",
    "    if mode == 'watch':\n",
    "        current_comics = push.load_json_file(list_type = 'watchlist')\n",
    "        updated_comics = merge_dict_objects(current_comics, comic_dict)\n",
    "        push.save_to_json(updated_comics, list_type = 'watchlist')\n",
    "        \n",
    "    elif mode == 'stock':\n",
    "        current_comics = push.load_json_file(list_type = 'stocklist')\n",
    "        updated_comics = merge_dict_objects(current_comics, comic_dict)\n",
    "        push.save_to_json(updated_comics, list_type = 'stocklist')\n",
    "        \n",
    "        \n",
    "    elif mode == 'live':\n",
    "        pass\n",
    "        \n",
    "    return current_comics\n",
    "\n",
    "    \n",
    "    "
   ]
  },
  {
   "cell_type": "code",
   "execution_count": null,
   "id": "1fb51673",
   "metadata": {},
   "outputs": [],
   "source": [
    "notif = push.format_watchlist_notification(stock_list)"
   ]
  },
  {
   "cell_type": "code",
   "execution_count": null,
   "id": "ae7ef47f",
   "metadata": {},
   "outputs": [],
   "source": [
    "notif = push.format_watchlist_notification(stock_list)"
   ]
  },
  {
   "cell_type": "code",
   "execution_count": null,
   "id": "38df0012",
   "metadata": {},
   "outputs": [],
   "source": [
    "x"
   ]
  },
  {
   "cell_type": "code",
   "execution_count": null,
   "id": "de96b35a",
   "metadata": {},
   "outputs": [],
   "source": []
  },
  {
   "cell_type": "code",
   "execution_count": null,
   "id": "9af57d78",
   "metadata": {},
   "outputs": [],
   "source": []
  },
  {
   "cell_type": "code",
   "execution_count": null,
   "id": "5b7da0bb",
   "metadata": {},
   "outputs": [],
   "source": [
    "stock_test_comic_1 = {'Batman 125 1:125':'https://forbiddenplanet.com/360496-batman-125-cover-i-alex-garner-foil-variant/'}\n",
    "stock_test_comic_2 = {'Batman 125 1:250':'https://forbiddenplanet.com/360497-batman-125-cover-j-chip-zdarsky-card-stock-variant/'}\n",
    "stock_test_comic_3 = {'Batman 125 1:500':'https://forbiddenplanet.com/360498-batman-125-cover-k-jim-lee-scott-williams-black-white-card-stock-variant/'}\n",
    "\n",
    "live_test_comic_4 = {'Batman 127 Jock Foil':['-batman', '-127', '-jock', '-variant']}\n",
    "live_test_comic_5 = {'Batman Beyond #1 Cover A':['-batman-beyond', '-1', '-murphy', '-cover-a']}"
   ]
  },
  {
   "cell_type": "code",
   "execution_count": null,
   "id": "d32fed01",
   "metadata": {},
   "outputs": [],
   "source": [
    "stock_list = [stock_test_comic_1, stock_test_comic_2, stock_test_comic_3]"
   ]
  },
  {
   "cell_type": "code",
   "execution_count": null,
   "id": "81a24215",
   "metadata": {},
   "outputs": [],
   "source": [
    "#a = push.set_comic_scope(series = 'batman', issue_number = 127, artist = 'jock', cover = False, variant = True)\n",
    "#b = push.set_comic_scope(series = 'batman beyond', issue_number = 1, artist = 'murphy', cover = 'a', variant = False)"
   ]
  },
  {
   "cell_type": "code",
   "execution_count": null,
   "id": "5ee2c11d",
   "metadata": {},
   "outputs": [],
   "source": [
    "live_list = [['-batman', '-127', '-jock', '-variant'], ['-batman-beyond', '-1', '-murphy', '-cover-a']]"
   ]
  },
  {
   "cell_type": "code",
   "execution_count": null,
   "id": "98613ac5",
   "metadata": {},
   "outputs": [],
   "source": [
    "#notif = push.format_live_notification(live_list)\n",
    "#notif = push.format_oos_notification(stock_list)\n",
    "notif = push.format_watchlist_notification(stock_list)"
   ]
  },
  {
   "cell_type": "code",
   "execution_count": null,
   "id": "10507f2e",
   "metadata": {},
   "outputs": [],
   "source": [
    "push.send_notification(notif)"
   ]
  },
  {
   "cell_type": "code",
   "execution_count": null,
   "id": "6533e4d7",
   "metadata": {},
   "outputs": [],
   "source": [
    "def watchlist_main():\n",
    "    push = PushOver()\n",
    "    stock_test_comic_1 = {'Batman 125 1:125':'https://forbiddenplanet.com/360496-batman-125-cover-i-alex-garner-foil-variant/'}\n",
    "    stock_test_comic_2 = {'Batman 125 1:250':'https://forbiddenplanet.com/360497-batman-125-cover-j-chip-zdarsky-card-stock-variant/'}\n",
    "    stock_test_comic_3 = {'Batman 125 1:500':'https://forbiddenplanet.com/360498-batman-125-cover-k-jim-lee-scott-williams-black-white-card-stock-variant/'}\n",
    "    stock_list = [stock_test_comic_1, stock_test_comic_2, stock_test_comic_3]\n",
    "    notif = push.format_watchlist_notification(stock_list)\n",
    "    push.send_notification(notif)\n",
    "    "
   ]
  },
  {
   "cell_type": "code",
   "execution_count": null,
   "id": "2172187e",
   "metadata": {},
   "outputs": [],
   "source": [
    "stock_list = [('Batman 125 1:125','https://forbiddenplanet.com/360496-batman-125-cover-i-alex-garner-foil-variant/'),('Batman 125 1:250','https://forbiddenplanet.com/360497-batman-125-cover-j-chip-zdarsky-card-stock-variant/'),('Batman 125 1:500','https://forbiddenplanet.com/360498-batman-125-cover-k-jim-lee-scott-williams-black-white-card-stock-variant/')]"
   ]
  },
  {
   "cell_type": "code",
   "execution_count": null,
   "id": "295135ce",
   "metadata": {},
   "outputs": [],
   "source": []
  },
  {
   "cell_type": "code",
   "execution_count": null,
   "id": "8cbc052a",
   "metadata": {},
   "outputs": [],
   "source": [
    "bjson = build_new_watchlist('Batman List', stock_list)"
   ]
  },
  {
   "cell_type": "code",
   "execution_count": null,
   "id": "56713848",
   "metadata": {},
   "outputs": [],
   "source": [
    "def build_new_watchlist(listname, entries):\n",
    "    return {listname : dict(entries)}\n",
    "    \n",
    "    "
   ]
  },
  {
   "cell_type": "code",
   "execution_count": null,
   "id": "7aff44b8",
   "metadata": {},
   "outputs": [],
   "source": [
    "ex_comics = {'Batman 124 Bratukhin Variant':'https://forbiddenplanet.com/358139-batman-124-cover-d-filya-bratukhin-card-stock-variant/','Batman 125 Zdarsky':'https://forbiddenplanet.com/360497-batman-125-cover-j-chip-zdarsky-card-stock-variant/', 'Batman: Beyond The White Knight #1': 'https://forbiddenplanet.com/355848-batman-beyond-the-white-knight-1-2nd-printing-foil-variant/?utm_medium=promotion&utm_source=recently-viewed&utm_campaign=recently-viewed'}"
   ]
  },
  {
   "cell_type": "code",
   "execution_count": null,
   "id": "82c4726d",
   "metadata": {},
   "outputs": [],
   "source": [
    "with open('comic_lists/watchlist.json', 'w') as fp:\n",
    "    json.dump(bjson , fp)"
   ]
  },
  {
   "cell_type": "code",
   "execution_count": null,
   "id": "4b855225",
   "metadata": {},
   "outputs": [],
   "source": [
    "def load_json_file(list_type = 'watchlist'):\n",
    "    \n",
    "    f = open(f'comic_lists/{list_type}.json')\n",
    "    data = json.load(f)\n",
    "    f.close()\n",
    "    return data\n",
    "    "
   ]
  },
  {
   "cell_type": "code",
   "execution_count": null,
   "id": "dc91eb12",
   "metadata": {},
   "outputs": [],
   "source": [
    "send_notification(message, notification_type = 'ooslist')"
   ]
  },
  {
   "cell_type": "code",
   "execution_count": null,
   "id": "557d4d51",
   "metadata": {},
   "outputs": [],
   "source": [
    "#fp.set_comic_scope(series = 'batman', issue_number = 125, artist = 'jock', cover =False, variant = True)\n",
    "comic_scope_1 = fp.set_comic_scope(series = 'batman', issue_number = 125, artist = 'jock', cover =False, variant = True)\n",
    "comic_scope_2 = fp.set_comic_scope(series = 'batman', issue_number = 128, artist = 'jock', cover =False, variant = True)\n"
   ]
  },
  {
   "cell_type": "code",
   "execution_count": null,
   "id": "3d407d0c",
   "metadata": {},
   "outputs": [],
   "source": [
    "ex_comics = {'Batman 125 Jock': comic_scope_1, 'Batman 128 Jock' : comic_scope_2}"
   ]
  },
  {
   "cell_type": "code",
   "execution_count": null,
   "id": "effd66c2",
   "metadata": {},
   "outputs": [],
   "source": []
  },
  {
   "cell_type": "code",
   "execution_count": null,
   "id": "691fb302",
   "metadata": {},
   "outputs": [],
   "source": [
    "message = format_live_notification()"
   ]
  },
  {
   "cell_type": "code",
   "execution_count": null,
   "id": "799f5b90",
   "metadata": {},
   "outputs": [],
   "source": [
    "def scope_format_convertion(comic_scope):\n",
    "    comic_scope = [x.replace('-',' ').title() for x in comic_scope]\n",
    "    return ' -'.join(comic_scope).strip()"
   ]
  },
  {
   "cell_type": "code",
   "execution_count": null,
   "id": "a7e7a266",
   "metadata": {},
   "outputs": [],
   "source": [
    "scope_format_convertion(comic_scope)"
   ]
  },
  {
   "cell_type": "code",
   "execution_count": null,
   "id": "d86bd22c",
   "metadata": {},
   "outputs": [],
   "source": [
    "send_notification(message, notification_type = 'livelist')"
   ]
  },
  {
   "cell_type": "code",
   "execution_count": null,
   "id": "0887a7ec",
   "metadata": {},
   "outputs": [],
   "source": [
    "list(comics.values())"
   ]
  },
  {
   "cell_type": "code",
   "execution_count": null,
   "id": "19d59fae",
   "metadata": {},
   "outputs": [],
   "source": [
    "comics = load_json_file('watchlist')"
   ]
  },
  {
   "cell_type": "code",
   "execution_count": null,
   "id": "33368ab0",
   "metadata": {},
   "outputs": [],
   "source": [
    "from fpcomics import PushOver"
   ]
  },
  {
   "cell_type": "code",
   "execution_count": null,
   "id": "5254b91b",
   "metadata": {},
   "outputs": [],
   "source": [
    "def watchlist_main(watchlist):\n",
    "    push = PushOver(get_live_sitemap = False)\n",
    "    comics = load_json_file(watchlist)\n",
    "    notif = push.format_watchlist_notification(comics)\n",
    "    push.send_notification(notif, *list(comics.keys()))"
   ]
  },
  {
   "cell_type": "code",
   "execution_count": null,
   "id": "7c24494d",
   "metadata": {},
   "outputs": [],
   "source": [
    "watchlist_main('watchlist')"
   ]
  },
  {
   "cell_type": "code",
   "execution_count": null,
   "id": "a3cfd33e",
   "metadata": {},
   "outputs": [],
   "source": [
    "fpyulses"
   ]
  },
  {
   "cell_type": "code",
   "execution_count": null,
   "id": "1146b54d",
   "metadata": {},
   "outputs": [],
   "source": [
    "import requests"
   ]
  },
  {
   "cell_type": "code",
   "execution_count": null,
   "id": "e2f93d77",
   "metadata": {},
   "outputs": [],
   "source": [
    "requests.get('https://forbiddenplanet.com/').status_code"
   ]
  },
  {
   "cell_type": "code",
   "execution_count": null,
   "id": "a0bc7f70",
   "metadata": {},
   "outputs": [],
   "source": [
    "pulses"
   ]
  },
  {
   "cell_type": "code",
   "execution_count": null,
   "id": "e0120587",
   "metadata": {},
   "outputs": [],
   "source": []
  },
  {
   "cell_type": "code",
   "execution_count": null,
   "id": "d133eb54",
   "metadata": {},
   "outputs": [],
   "source": []
  }
 ],
 "metadata": {
  "kernelspec": {
   "display_name": "3.10.5",
   "language": "python",
   "name": "3.10.5"
  },
  "language_info": {
   "codemirror_mode": {
    "name": "ipython",
    "version": 3
   },
   "file_extension": ".py",
   "mimetype": "text/x-python",
   "name": "python",
   "nbconvert_exporter": "python",
   "pygments_lexer": "ipython3",
   "version": "3.10.5"
  }
 },
 "nbformat": 4,
 "nbformat_minor": 5
}
